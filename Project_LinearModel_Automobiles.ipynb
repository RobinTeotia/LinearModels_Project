{
  "nbformat": 4,
  "nbformat_minor": 0,
  "metadata": {
    "colab": {
      "name": "Project_LinearModel_Automobiles",
      "provenance": [],
      "collapsed_sections": [
        "zLpSIlADM_MW",
        "Pu2tlxHmJYKn",
        "XhnvwI9AGKVM",
        "KY12cqnEGfRc",
        "AlxIXnXUJmkx"
      ],
      "toc_visible": true,
      "authorship_tag": "ABX9TyP0xbusDBxvEKu5IMkBfPse",
      "include_colab_link": true
    },
    "kernelspec": {
      "name": "python3",
      "display_name": "Python 3"
    },
    "language_info": {
      "name": "python"
    }
  },
  "cells": [
    {
      "cell_type": "markdown",
      "metadata": {
        "id": "view-in-github",
        "colab_type": "text"
      },
      "source": [
        "<a href=\"https://colab.research.google.com/github/RobinTeotia/LinearModels_Project/blob/main/Project_LinearModel_Automobiles.ipynb\" target=\"_parent\"><img src=\"https://colab.research.google.com/assets/colab-badge.svg\" alt=\"Open In Colab\"/></a>"
      ]
    },
    {
      "cell_type": "markdown",
      "source": [
        "#Data Pre-processing"
      ],
      "metadata": {
        "id": "zLpSIlADM_MW"
      }
    },
    {
      "cell_type": "code",
      "execution_count": 3,
      "metadata": {
        "colab": {
          "base_uri": "https://localhost:8080/"
        },
        "id": "-_60ZNnQhfbs",
        "outputId": "9c81261c-a3b5-48d3-fd93-69a5933cd9fb"
      },
      "outputs": [
        {
          "output_type": "stream",
          "name": "stdout",
          "text": [
            "Mounted at /content/drive\n"
          ]
        }
      ],
      "source": [
        "#Importing data \n",
        "from google.colab import drive\n",
        "drive.mount('/content/drive')"
      ]
    },
    {
      "cell_type": "code",
      "source": [
        "# Importing Libraries\n",
        "import pandas as pd\n",
        "import numpy as np\n",
        "import matplotlib.pyplot as plt\n",
        "import sklearn\n",
        "from sklearn.model_selection import train_test_split\n",
        "import sklearn.preprocessing as pp\n",
        "from sklearn import linear_model\n",
        "from sklearn import metrics\n",
        "import seaborn as sns\n",
        "np.set_printoptions(threshold=np.inf)\n",
        "np.set_printoptions(linewidth=np.inf)\n",
        "pd.set_option('display.max_rows', 500)\n",
        "pd.set_option('display.max_columns', 500)\n",
        "pd.set_option('display.max_seq_items', 500)\n"
      ],
      "metadata": {
        "id": "-Lg-j6z8EMZ8"
      },
      "execution_count": 4,
      "outputs": []
    },
    {
      "cell_type": "code",
      "source": [
        "#Reading the file\n",
        "path=\"/content/drive/MyDrive/Linear_Model_Project/auto_clean.csv\"\n",
        "df=pd.read_csv(path)\n",
        "df.head()"
      ],
      "metadata": {
        "colab": {
          "base_uri": "https://localhost:8080/",
          "height": 0
        },
        "id": "kYaotJhPESeV",
        "outputId": "26fd4ce4-a67c-4a1c-c1d5-1b41de08ba26"
      },
      "execution_count": 5,
      "outputs": [
        {
          "output_type": "execute_result",
          "data": {
            "text/plain": [
              "   symboling  normalized-losses         make aspiration num-of-doors  \\\n",
              "0          3                122  alfa-romero        std          two   \n",
              "1          3                122  alfa-romero        std          two   \n",
              "2          1                122  alfa-romero        std          two   \n",
              "3          2                164         audi        std         four   \n",
              "4          2                164         audi        std         four   \n",
              "\n",
              "    body-style drive-wheels engine-location  wheel-base    length     width  \\\n",
              "0  convertible          rwd           front        88.6  0.811148  0.890278   \n",
              "1  convertible          rwd           front        88.6  0.811148  0.890278   \n",
              "2    hatchback          rwd           front        94.5  0.822681  0.909722   \n",
              "3        sedan          fwd           front        99.8  0.848630  0.919444   \n",
              "4        sedan          4wd           front        99.4  0.848630  0.922222   \n",
              "\n",
              "   height  curb-weight engine-type num-of-cylinders  engine-size fuel-system  \\\n",
              "0    48.8         2548        dohc             four          130        mpfi   \n",
              "1    48.8         2548        dohc             four          130        mpfi   \n",
              "2    52.4         2823        ohcv              six          152        mpfi   \n",
              "3    54.3         2337         ohc             four          109        mpfi   \n",
              "4    54.3         2824         ohc             five          136        mpfi   \n",
              "\n",
              "   bore  stroke  compression-ratio  horsepower  peak-rpm  city-mpg  \\\n",
              "0  3.47    2.68                9.0       111.0    5000.0        21   \n",
              "1  3.47    2.68                9.0       111.0    5000.0        21   \n",
              "2  2.68    3.47                9.0       154.0    5000.0        19   \n",
              "3  3.19    3.40               10.0       102.0    5500.0        24   \n",
              "4  3.19    3.40                8.0       115.0    5500.0        18   \n",
              "\n",
              "   highway-mpg    price  city-L/100km horsepower-binned  diesel  gas  \n",
              "0           27  13495.0     11.190476            Medium       0    1  \n",
              "1           27  16500.0     11.190476            Medium       0    1  \n",
              "2           26  16500.0     12.368421            Medium       0    1  \n",
              "3           30  13950.0      9.791667            Medium       0    1  \n",
              "4           22  17450.0     13.055556            Medium       0    1  "
            ],
            "text/html": [
              "\n",
              "  <div id=\"df-7c4db78d-c961-4d37-84d0-10c6e8d659df\">\n",
              "    <div class=\"colab-df-container\">\n",
              "      <div>\n",
              "<style scoped>\n",
              "    .dataframe tbody tr th:only-of-type {\n",
              "        vertical-align: middle;\n",
              "    }\n",
              "\n",
              "    .dataframe tbody tr th {\n",
              "        vertical-align: top;\n",
              "    }\n",
              "\n",
              "    .dataframe thead th {\n",
              "        text-align: right;\n",
              "    }\n",
              "</style>\n",
              "<table border=\"1\" class=\"dataframe\">\n",
              "  <thead>\n",
              "    <tr style=\"text-align: right;\">\n",
              "      <th></th>\n",
              "      <th>symboling</th>\n",
              "      <th>normalized-losses</th>\n",
              "      <th>make</th>\n",
              "      <th>aspiration</th>\n",
              "      <th>num-of-doors</th>\n",
              "      <th>body-style</th>\n",
              "      <th>drive-wheels</th>\n",
              "      <th>engine-location</th>\n",
              "      <th>wheel-base</th>\n",
              "      <th>length</th>\n",
              "      <th>width</th>\n",
              "      <th>height</th>\n",
              "      <th>curb-weight</th>\n",
              "      <th>engine-type</th>\n",
              "      <th>num-of-cylinders</th>\n",
              "      <th>engine-size</th>\n",
              "      <th>fuel-system</th>\n",
              "      <th>bore</th>\n",
              "      <th>stroke</th>\n",
              "      <th>compression-ratio</th>\n",
              "      <th>horsepower</th>\n",
              "      <th>peak-rpm</th>\n",
              "      <th>city-mpg</th>\n",
              "      <th>highway-mpg</th>\n",
              "      <th>price</th>\n",
              "      <th>city-L/100km</th>\n",
              "      <th>horsepower-binned</th>\n",
              "      <th>diesel</th>\n",
              "      <th>gas</th>\n",
              "    </tr>\n",
              "  </thead>\n",
              "  <tbody>\n",
              "    <tr>\n",
              "      <th>0</th>\n",
              "      <td>3</td>\n",
              "      <td>122</td>\n",
              "      <td>alfa-romero</td>\n",
              "      <td>std</td>\n",
              "      <td>two</td>\n",
              "      <td>convertible</td>\n",
              "      <td>rwd</td>\n",
              "      <td>front</td>\n",
              "      <td>88.6</td>\n",
              "      <td>0.811148</td>\n",
              "      <td>0.890278</td>\n",
              "      <td>48.8</td>\n",
              "      <td>2548</td>\n",
              "      <td>dohc</td>\n",
              "      <td>four</td>\n",
              "      <td>130</td>\n",
              "      <td>mpfi</td>\n",
              "      <td>3.47</td>\n",
              "      <td>2.68</td>\n",
              "      <td>9.0</td>\n",
              "      <td>111.0</td>\n",
              "      <td>5000.0</td>\n",
              "      <td>21</td>\n",
              "      <td>27</td>\n",
              "      <td>13495.0</td>\n",
              "      <td>11.190476</td>\n",
              "      <td>Medium</td>\n",
              "      <td>0</td>\n",
              "      <td>1</td>\n",
              "    </tr>\n",
              "    <tr>\n",
              "      <th>1</th>\n",
              "      <td>3</td>\n",
              "      <td>122</td>\n",
              "      <td>alfa-romero</td>\n",
              "      <td>std</td>\n",
              "      <td>two</td>\n",
              "      <td>convertible</td>\n",
              "      <td>rwd</td>\n",
              "      <td>front</td>\n",
              "      <td>88.6</td>\n",
              "      <td>0.811148</td>\n",
              "      <td>0.890278</td>\n",
              "      <td>48.8</td>\n",
              "      <td>2548</td>\n",
              "      <td>dohc</td>\n",
              "      <td>four</td>\n",
              "      <td>130</td>\n",
              "      <td>mpfi</td>\n",
              "      <td>3.47</td>\n",
              "      <td>2.68</td>\n",
              "      <td>9.0</td>\n",
              "      <td>111.0</td>\n",
              "      <td>5000.0</td>\n",
              "      <td>21</td>\n",
              "      <td>27</td>\n",
              "      <td>16500.0</td>\n",
              "      <td>11.190476</td>\n",
              "      <td>Medium</td>\n",
              "      <td>0</td>\n",
              "      <td>1</td>\n",
              "    </tr>\n",
              "    <tr>\n",
              "      <th>2</th>\n",
              "      <td>1</td>\n",
              "      <td>122</td>\n",
              "      <td>alfa-romero</td>\n",
              "      <td>std</td>\n",
              "      <td>two</td>\n",
              "      <td>hatchback</td>\n",
              "      <td>rwd</td>\n",
              "      <td>front</td>\n",
              "      <td>94.5</td>\n",
              "      <td>0.822681</td>\n",
              "      <td>0.909722</td>\n",
              "      <td>52.4</td>\n",
              "      <td>2823</td>\n",
              "      <td>ohcv</td>\n",
              "      <td>six</td>\n",
              "      <td>152</td>\n",
              "      <td>mpfi</td>\n",
              "      <td>2.68</td>\n",
              "      <td>3.47</td>\n",
              "      <td>9.0</td>\n",
              "      <td>154.0</td>\n",
              "      <td>5000.0</td>\n",
              "      <td>19</td>\n",
              "      <td>26</td>\n",
              "      <td>16500.0</td>\n",
              "      <td>12.368421</td>\n",
              "      <td>Medium</td>\n",
              "      <td>0</td>\n",
              "      <td>1</td>\n",
              "    </tr>\n",
              "    <tr>\n",
              "      <th>3</th>\n",
              "      <td>2</td>\n",
              "      <td>164</td>\n",
              "      <td>audi</td>\n",
              "      <td>std</td>\n",
              "      <td>four</td>\n",
              "      <td>sedan</td>\n",
              "      <td>fwd</td>\n",
              "      <td>front</td>\n",
              "      <td>99.8</td>\n",
              "      <td>0.848630</td>\n",
              "      <td>0.919444</td>\n",
              "      <td>54.3</td>\n",
              "      <td>2337</td>\n",
              "      <td>ohc</td>\n",
              "      <td>four</td>\n",
              "      <td>109</td>\n",
              "      <td>mpfi</td>\n",
              "      <td>3.19</td>\n",
              "      <td>3.40</td>\n",
              "      <td>10.0</td>\n",
              "      <td>102.0</td>\n",
              "      <td>5500.0</td>\n",
              "      <td>24</td>\n",
              "      <td>30</td>\n",
              "      <td>13950.0</td>\n",
              "      <td>9.791667</td>\n",
              "      <td>Medium</td>\n",
              "      <td>0</td>\n",
              "      <td>1</td>\n",
              "    </tr>\n",
              "    <tr>\n",
              "      <th>4</th>\n",
              "      <td>2</td>\n",
              "      <td>164</td>\n",
              "      <td>audi</td>\n",
              "      <td>std</td>\n",
              "      <td>four</td>\n",
              "      <td>sedan</td>\n",
              "      <td>4wd</td>\n",
              "      <td>front</td>\n",
              "      <td>99.4</td>\n",
              "      <td>0.848630</td>\n",
              "      <td>0.922222</td>\n",
              "      <td>54.3</td>\n",
              "      <td>2824</td>\n",
              "      <td>ohc</td>\n",
              "      <td>five</td>\n",
              "      <td>136</td>\n",
              "      <td>mpfi</td>\n",
              "      <td>3.19</td>\n",
              "      <td>3.40</td>\n",
              "      <td>8.0</td>\n",
              "      <td>115.0</td>\n",
              "      <td>5500.0</td>\n",
              "      <td>18</td>\n",
              "      <td>22</td>\n",
              "      <td>17450.0</td>\n",
              "      <td>13.055556</td>\n",
              "      <td>Medium</td>\n",
              "      <td>0</td>\n",
              "      <td>1</td>\n",
              "    </tr>\n",
              "  </tbody>\n",
              "</table>\n",
              "</div>\n",
              "      <button class=\"colab-df-convert\" onclick=\"convertToInteractive('df-7c4db78d-c961-4d37-84d0-10c6e8d659df')\"\n",
              "              title=\"Convert this dataframe to an interactive table.\"\n",
              "              style=\"display:none;\">\n",
              "        \n",
              "  <svg xmlns=\"http://www.w3.org/2000/svg\" height=\"24px\"viewBox=\"0 0 24 24\"\n",
              "       width=\"24px\">\n",
              "    <path d=\"M0 0h24v24H0V0z\" fill=\"none\"/>\n",
              "    <path d=\"M18.56 5.44l.94 2.06.94-2.06 2.06-.94-2.06-.94-.94-2.06-.94 2.06-2.06.94zm-11 1L8.5 8.5l.94-2.06 2.06-.94-2.06-.94L8.5 2.5l-.94 2.06-2.06.94zm10 10l.94 2.06.94-2.06 2.06-.94-2.06-.94-.94-2.06-.94 2.06-2.06.94z\"/><path d=\"M17.41 7.96l-1.37-1.37c-.4-.4-.92-.59-1.43-.59-.52 0-1.04.2-1.43.59L10.3 9.45l-7.72 7.72c-.78.78-.78 2.05 0 2.83L4 21.41c.39.39.9.59 1.41.59.51 0 1.02-.2 1.41-.59l7.78-7.78 2.81-2.81c.8-.78.8-2.07 0-2.86zM5.41 20L4 18.59l7.72-7.72 1.47 1.35L5.41 20z\"/>\n",
              "  </svg>\n",
              "      </button>\n",
              "      \n",
              "  <style>\n",
              "    .colab-df-container {\n",
              "      display:flex;\n",
              "      flex-wrap:wrap;\n",
              "      gap: 12px;\n",
              "    }\n",
              "\n",
              "    .colab-df-convert {\n",
              "      background-color: #E8F0FE;\n",
              "      border: none;\n",
              "      border-radius: 50%;\n",
              "      cursor: pointer;\n",
              "      display: none;\n",
              "      fill: #1967D2;\n",
              "      height: 32px;\n",
              "      padding: 0 0 0 0;\n",
              "      width: 32px;\n",
              "    }\n",
              "\n",
              "    .colab-df-convert:hover {\n",
              "      background-color: #E2EBFA;\n",
              "      box-shadow: 0px 1px 2px rgba(60, 64, 67, 0.3), 0px 1px 3px 1px rgba(60, 64, 67, 0.15);\n",
              "      fill: #174EA6;\n",
              "    }\n",
              "\n",
              "    [theme=dark] .colab-df-convert {\n",
              "      background-color: #3B4455;\n",
              "      fill: #D2E3FC;\n",
              "    }\n",
              "\n",
              "    [theme=dark] .colab-df-convert:hover {\n",
              "      background-color: #434B5C;\n",
              "      box-shadow: 0px 1px 3px 1px rgba(0, 0, 0, 0.15);\n",
              "      filter: drop-shadow(0px 1px 2px rgba(0, 0, 0, 0.3));\n",
              "      fill: #FFFFFF;\n",
              "    }\n",
              "  </style>\n",
              "\n",
              "      <script>\n",
              "        const buttonEl =\n",
              "          document.querySelector('#df-7c4db78d-c961-4d37-84d0-10c6e8d659df button.colab-df-convert');\n",
              "        buttonEl.style.display =\n",
              "          google.colab.kernel.accessAllowed ? 'block' : 'none';\n",
              "\n",
              "        async function convertToInteractive(key) {\n",
              "          const element = document.querySelector('#df-7c4db78d-c961-4d37-84d0-10c6e8d659df');\n",
              "          const dataTable =\n",
              "            await google.colab.kernel.invokeFunction('convertToInteractive',\n",
              "                                                     [key], {});\n",
              "          if (!dataTable) return;\n",
              "\n",
              "          const docLinkHtml = 'Like what you see? Visit the ' +\n",
              "            '<a target=\"_blank\" href=https://colab.research.google.com/notebooks/data_table.ipynb>data table notebook</a>'\n",
              "            + ' to learn more about interactive tables.';\n",
              "          element.innerHTML = '';\n",
              "          dataTable['output_type'] = 'display_data';\n",
              "          await google.colab.output.renderOutput(dataTable, element);\n",
              "          const docLink = document.createElement('div');\n",
              "          docLink.innerHTML = docLinkHtml;\n",
              "          element.appendChild(docLink);\n",
              "        }\n",
              "      </script>\n",
              "    </div>\n",
              "  </div>\n",
              "  "
            ]
          },
          "metadata": {},
          "execution_count": 5
        }
      ]
    },
    {
      "cell_type": "code",
      "source": [
        "df.describe(include= \"all\")"
      ],
      "metadata": {
        "colab": {
          "base_uri": "https://localhost:8080/",
          "height": 0
        },
        "id": "hhj2UgSHIgSm",
        "outputId": "e9d11eed-5433-4e37-faa5-cf3f861563f6"
      },
      "execution_count": 6,
      "outputs": [
        {
          "output_type": "execute_result",
          "data": {
            "text/plain": [
              "         symboling  normalized-losses    make aspiration num-of-doors  \\\n",
              "count   201.000000          201.00000     201        201          201   \n",
              "unique         NaN                NaN      22          2            2   \n",
              "top            NaN                NaN  toyota        std         four   \n",
              "freq           NaN                NaN      32        165          115   \n",
              "mean      0.840796          122.00000     NaN        NaN          NaN   \n",
              "std       1.254802           31.99625     NaN        NaN          NaN   \n",
              "min      -2.000000           65.00000     NaN        NaN          NaN   \n",
              "25%       0.000000          101.00000     NaN        NaN          NaN   \n",
              "50%       1.000000          122.00000     NaN        NaN          NaN   \n",
              "75%       2.000000          137.00000     NaN        NaN          NaN   \n",
              "max       3.000000          256.00000     NaN        NaN          NaN   \n",
              "\n",
              "       body-style drive-wheels engine-location  wheel-base      length  \\\n",
              "count         201          201             201  201.000000  201.000000   \n",
              "unique          5            3               2         NaN         NaN   \n",
              "top         sedan          fwd           front         NaN         NaN   \n",
              "freq           94          118             198         NaN         NaN   \n",
              "mean          NaN          NaN             NaN   98.797015    0.837102   \n",
              "std           NaN          NaN             NaN    6.066366    0.059213   \n",
              "min           NaN          NaN             NaN   86.600000    0.678039   \n",
              "25%           NaN          NaN             NaN   94.500000    0.801538   \n",
              "50%           NaN          NaN             NaN   97.000000    0.832292   \n",
              "75%           NaN          NaN             NaN  102.400000    0.881788   \n",
              "max           NaN          NaN             NaN  120.900000    1.000000   \n",
              "\n",
              "             width      height  curb-weight engine-type num-of-cylinders  \\\n",
              "count   201.000000  201.000000   201.000000         201              201   \n",
              "unique         NaN         NaN          NaN           6                7   \n",
              "top            NaN         NaN          NaN         ohc             four   \n",
              "freq           NaN         NaN          NaN         145              157   \n",
              "mean      0.915126   53.766667  2555.666667         NaN              NaN   \n",
              "std       0.029187    2.447822   517.296727         NaN              NaN   \n",
              "min       0.837500   47.800000  1488.000000         NaN              NaN   \n",
              "25%       0.890278   52.000000  2169.000000         NaN              NaN   \n",
              "50%       0.909722   54.100000  2414.000000         NaN              NaN   \n",
              "75%       0.925000   55.500000  2926.000000         NaN              NaN   \n",
              "max       1.000000   59.800000  4066.000000         NaN              NaN   \n",
              "\n",
              "        engine-size fuel-system        bore      stroke  compression-ratio  \\\n",
              "count    201.000000         201  201.000000  197.000000         201.000000   \n",
              "unique          NaN           8         NaN         NaN                NaN   \n",
              "top             NaN        mpfi         NaN         NaN                NaN   \n",
              "freq            NaN          92         NaN         NaN                NaN   \n",
              "mean     126.875622         NaN    3.330692    3.256904          10.164279   \n",
              "std       41.546834         NaN    0.268072    0.319256           4.004965   \n",
              "min       61.000000         NaN    2.540000    2.070000           7.000000   \n",
              "25%       98.000000         NaN    3.150000    3.110000           8.600000   \n",
              "50%      120.000000         NaN    3.310000    3.290000           9.000000   \n",
              "75%      141.000000         NaN    3.580000    3.410000           9.400000   \n",
              "max      326.000000         NaN    3.940000    4.170000          23.000000   \n",
              "\n",
              "        horsepower     peak-rpm    city-mpg  highway-mpg         price  \\\n",
              "count   201.000000   201.000000  201.000000   201.000000    201.000000   \n",
              "unique         NaN          NaN         NaN          NaN           NaN   \n",
              "top            NaN          NaN         NaN          NaN           NaN   \n",
              "freq           NaN          NaN         NaN          NaN           NaN   \n",
              "mean    103.405534  5117.665368   25.179104    30.686567  13207.129353   \n",
              "std      37.365700   478.113805    6.423220     6.815150   7947.066342   \n",
              "min      48.000000  4150.000000   13.000000    16.000000   5118.000000   \n",
              "25%      70.000000  4800.000000   19.000000    25.000000   7775.000000   \n",
              "50%      95.000000  5125.369458   24.000000    30.000000  10295.000000   \n",
              "75%     116.000000  5500.000000   30.000000    34.000000  16500.000000   \n",
              "max     262.000000  6600.000000   49.000000    54.000000  45400.000000   \n",
              "\n",
              "        city-L/100km horsepower-binned      diesel         gas  \n",
              "count     201.000000               200  201.000000  201.000000  \n",
              "unique           NaN                 3         NaN         NaN  \n",
              "top              NaN               Low         NaN         NaN  \n",
              "freq             NaN               115         NaN         NaN  \n",
              "mean        9.944145               NaN    0.099502    0.900498  \n",
              "std         2.534599               NaN    0.300083    0.300083  \n",
              "min         4.795918               NaN    0.000000    0.000000  \n",
              "25%         7.833333               NaN    0.000000    1.000000  \n",
              "50%         9.791667               NaN    0.000000    1.000000  \n",
              "75%        12.368421               NaN    0.000000    1.000000  \n",
              "max        18.076923               NaN    1.000000    1.000000  "
            ],
            "text/html": [
              "\n",
              "  <div id=\"df-4043bd4b-1b68-4b5c-8142-d50e66f9133a\">\n",
              "    <div class=\"colab-df-container\">\n",
              "      <div>\n",
              "<style scoped>\n",
              "    .dataframe tbody tr th:only-of-type {\n",
              "        vertical-align: middle;\n",
              "    }\n",
              "\n",
              "    .dataframe tbody tr th {\n",
              "        vertical-align: top;\n",
              "    }\n",
              "\n",
              "    .dataframe thead th {\n",
              "        text-align: right;\n",
              "    }\n",
              "</style>\n",
              "<table border=\"1\" class=\"dataframe\">\n",
              "  <thead>\n",
              "    <tr style=\"text-align: right;\">\n",
              "      <th></th>\n",
              "      <th>symboling</th>\n",
              "      <th>normalized-losses</th>\n",
              "      <th>make</th>\n",
              "      <th>aspiration</th>\n",
              "      <th>num-of-doors</th>\n",
              "      <th>body-style</th>\n",
              "      <th>drive-wheels</th>\n",
              "      <th>engine-location</th>\n",
              "      <th>wheel-base</th>\n",
              "      <th>length</th>\n",
              "      <th>width</th>\n",
              "      <th>height</th>\n",
              "      <th>curb-weight</th>\n",
              "      <th>engine-type</th>\n",
              "      <th>num-of-cylinders</th>\n",
              "      <th>engine-size</th>\n",
              "      <th>fuel-system</th>\n",
              "      <th>bore</th>\n",
              "      <th>stroke</th>\n",
              "      <th>compression-ratio</th>\n",
              "      <th>horsepower</th>\n",
              "      <th>peak-rpm</th>\n",
              "      <th>city-mpg</th>\n",
              "      <th>highway-mpg</th>\n",
              "      <th>price</th>\n",
              "      <th>city-L/100km</th>\n",
              "      <th>horsepower-binned</th>\n",
              "      <th>diesel</th>\n",
              "      <th>gas</th>\n",
              "    </tr>\n",
              "  </thead>\n",
              "  <tbody>\n",
              "    <tr>\n",
              "      <th>count</th>\n",
              "      <td>201.000000</td>\n",
              "      <td>201.00000</td>\n",
              "      <td>201</td>\n",
              "      <td>201</td>\n",
              "      <td>201</td>\n",
              "      <td>201</td>\n",
              "      <td>201</td>\n",
              "      <td>201</td>\n",
              "      <td>201.000000</td>\n",
              "      <td>201.000000</td>\n",
              "      <td>201.000000</td>\n",
              "      <td>201.000000</td>\n",
              "      <td>201.000000</td>\n",
              "      <td>201</td>\n",
              "      <td>201</td>\n",
              "      <td>201.000000</td>\n",
              "      <td>201</td>\n",
              "      <td>201.000000</td>\n",
              "      <td>197.000000</td>\n",
              "      <td>201.000000</td>\n",
              "      <td>201.000000</td>\n",
              "      <td>201.000000</td>\n",
              "      <td>201.000000</td>\n",
              "      <td>201.000000</td>\n",
              "      <td>201.000000</td>\n",
              "      <td>201.000000</td>\n",
              "      <td>200</td>\n",
              "      <td>201.000000</td>\n",
              "      <td>201.000000</td>\n",
              "    </tr>\n",
              "    <tr>\n",
              "      <th>unique</th>\n",
              "      <td>NaN</td>\n",
              "      <td>NaN</td>\n",
              "      <td>22</td>\n",
              "      <td>2</td>\n",
              "      <td>2</td>\n",
              "      <td>5</td>\n",
              "      <td>3</td>\n",
              "      <td>2</td>\n",
              "      <td>NaN</td>\n",
              "      <td>NaN</td>\n",
              "      <td>NaN</td>\n",
              "      <td>NaN</td>\n",
              "      <td>NaN</td>\n",
              "      <td>6</td>\n",
              "      <td>7</td>\n",
              "      <td>NaN</td>\n",
              "      <td>8</td>\n",
              "      <td>NaN</td>\n",
              "      <td>NaN</td>\n",
              "      <td>NaN</td>\n",
              "      <td>NaN</td>\n",
              "      <td>NaN</td>\n",
              "      <td>NaN</td>\n",
              "      <td>NaN</td>\n",
              "      <td>NaN</td>\n",
              "      <td>NaN</td>\n",
              "      <td>3</td>\n",
              "      <td>NaN</td>\n",
              "      <td>NaN</td>\n",
              "    </tr>\n",
              "    <tr>\n",
              "      <th>top</th>\n",
              "      <td>NaN</td>\n",
              "      <td>NaN</td>\n",
              "      <td>toyota</td>\n",
              "      <td>std</td>\n",
              "      <td>four</td>\n",
              "      <td>sedan</td>\n",
              "      <td>fwd</td>\n",
              "      <td>front</td>\n",
              "      <td>NaN</td>\n",
              "      <td>NaN</td>\n",
              "      <td>NaN</td>\n",
              "      <td>NaN</td>\n",
              "      <td>NaN</td>\n",
              "      <td>ohc</td>\n",
              "      <td>four</td>\n",
              "      <td>NaN</td>\n",
              "      <td>mpfi</td>\n",
              "      <td>NaN</td>\n",
              "      <td>NaN</td>\n",
              "      <td>NaN</td>\n",
              "      <td>NaN</td>\n",
              "      <td>NaN</td>\n",
              "      <td>NaN</td>\n",
              "      <td>NaN</td>\n",
              "      <td>NaN</td>\n",
              "      <td>NaN</td>\n",
              "      <td>Low</td>\n",
              "      <td>NaN</td>\n",
              "      <td>NaN</td>\n",
              "    </tr>\n",
              "    <tr>\n",
              "      <th>freq</th>\n",
              "      <td>NaN</td>\n",
              "      <td>NaN</td>\n",
              "      <td>32</td>\n",
              "      <td>165</td>\n",
              "      <td>115</td>\n",
              "      <td>94</td>\n",
              "      <td>118</td>\n",
              "      <td>198</td>\n",
              "      <td>NaN</td>\n",
              "      <td>NaN</td>\n",
              "      <td>NaN</td>\n",
              "      <td>NaN</td>\n",
              "      <td>NaN</td>\n",
              "      <td>145</td>\n",
              "      <td>157</td>\n",
              "      <td>NaN</td>\n",
              "      <td>92</td>\n",
              "      <td>NaN</td>\n",
              "      <td>NaN</td>\n",
              "      <td>NaN</td>\n",
              "      <td>NaN</td>\n",
              "      <td>NaN</td>\n",
              "      <td>NaN</td>\n",
              "      <td>NaN</td>\n",
              "      <td>NaN</td>\n",
              "      <td>NaN</td>\n",
              "      <td>115</td>\n",
              "      <td>NaN</td>\n",
              "      <td>NaN</td>\n",
              "    </tr>\n",
              "    <tr>\n",
              "      <th>mean</th>\n",
              "      <td>0.840796</td>\n",
              "      <td>122.00000</td>\n",
              "      <td>NaN</td>\n",
              "      <td>NaN</td>\n",
              "      <td>NaN</td>\n",
              "      <td>NaN</td>\n",
              "      <td>NaN</td>\n",
              "      <td>NaN</td>\n",
              "      <td>98.797015</td>\n",
              "      <td>0.837102</td>\n",
              "      <td>0.915126</td>\n",
              "      <td>53.766667</td>\n",
              "      <td>2555.666667</td>\n",
              "      <td>NaN</td>\n",
              "      <td>NaN</td>\n",
              "      <td>126.875622</td>\n",
              "      <td>NaN</td>\n",
              "      <td>3.330692</td>\n",
              "      <td>3.256904</td>\n",
              "      <td>10.164279</td>\n",
              "      <td>103.405534</td>\n",
              "      <td>5117.665368</td>\n",
              "      <td>25.179104</td>\n",
              "      <td>30.686567</td>\n",
              "      <td>13207.129353</td>\n",
              "      <td>9.944145</td>\n",
              "      <td>NaN</td>\n",
              "      <td>0.099502</td>\n",
              "      <td>0.900498</td>\n",
              "    </tr>\n",
              "    <tr>\n",
              "      <th>std</th>\n",
              "      <td>1.254802</td>\n",
              "      <td>31.99625</td>\n",
              "      <td>NaN</td>\n",
              "      <td>NaN</td>\n",
              "      <td>NaN</td>\n",
              "      <td>NaN</td>\n",
              "      <td>NaN</td>\n",
              "      <td>NaN</td>\n",
              "      <td>6.066366</td>\n",
              "      <td>0.059213</td>\n",
              "      <td>0.029187</td>\n",
              "      <td>2.447822</td>\n",
              "      <td>517.296727</td>\n",
              "      <td>NaN</td>\n",
              "      <td>NaN</td>\n",
              "      <td>41.546834</td>\n",
              "      <td>NaN</td>\n",
              "      <td>0.268072</td>\n",
              "      <td>0.319256</td>\n",
              "      <td>4.004965</td>\n",
              "      <td>37.365700</td>\n",
              "      <td>478.113805</td>\n",
              "      <td>6.423220</td>\n",
              "      <td>6.815150</td>\n",
              "      <td>7947.066342</td>\n",
              "      <td>2.534599</td>\n",
              "      <td>NaN</td>\n",
              "      <td>0.300083</td>\n",
              "      <td>0.300083</td>\n",
              "    </tr>\n",
              "    <tr>\n",
              "      <th>min</th>\n",
              "      <td>-2.000000</td>\n",
              "      <td>65.00000</td>\n",
              "      <td>NaN</td>\n",
              "      <td>NaN</td>\n",
              "      <td>NaN</td>\n",
              "      <td>NaN</td>\n",
              "      <td>NaN</td>\n",
              "      <td>NaN</td>\n",
              "      <td>86.600000</td>\n",
              "      <td>0.678039</td>\n",
              "      <td>0.837500</td>\n",
              "      <td>47.800000</td>\n",
              "      <td>1488.000000</td>\n",
              "      <td>NaN</td>\n",
              "      <td>NaN</td>\n",
              "      <td>61.000000</td>\n",
              "      <td>NaN</td>\n",
              "      <td>2.540000</td>\n",
              "      <td>2.070000</td>\n",
              "      <td>7.000000</td>\n",
              "      <td>48.000000</td>\n",
              "      <td>4150.000000</td>\n",
              "      <td>13.000000</td>\n",
              "      <td>16.000000</td>\n",
              "      <td>5118.000000</td>\n",
              "      <td>4.795918</td>\n",
              "      <td>NaN</td>\n",
              "      <td>0.000000</td>\n",
              "      <td>0.000000</td>\n",
              "    </tr>\n",
              "    <tr>\n",
              "      <th>25%</th>\n",
              "      <td>0.000000</td>\n",
              "      <td>101.00000</td>\n",
              "      <td>NaN</td>\n",
              "      <td>NaN</td>\n",
              "      <td>NaN</td>\n",
              "      <td>NaN</td>\n",
              "      <td>NaN</td>\n",
              "      <td>NaN</td>\n",
              "      <td>94.500000</td>\n",
              "      <td>0.801538</td>\n",
              "      <td>0.890278</td>\n",
              "      <td>52.000000</td>\n",
              "      <td>2169.000000</td>\n",
              "      <td>NaN</td>\n",
              "      <td>NaN</td>\n",
              "      <td>98.000000</td>\n",
              "      <td>NaN</td>\n",
              "      <td>3.150000</td>\n",
              "      <td>3.110000</td>\n",
              "      <td>8.600000</td>\n",
              "      <td>70.000000</td>\n",
              "      <td>4800.000000</td>\n",
              "      <td>19.000000</td>\n",
              "      <td>25.000000</td>\n",
              "      <td>7775.000000</td>\n",
              "      <td>7.833333</td>\n",
              "      <td>NaN</td>\n",
              "      <td>0.000000</td>\n",
              "      <td>1.000000</td>\n",
              "    </tr>\n",
              "    <tr>\n",
              "      <th>50%</th>\n",
              "      <td>1.000000</td>\n",
              "      <td>122.00000</td>\n",
              "      <td>NaN</td>\n",
              "      <td>NaN</td>\n",
              "      <td>NaN</td>\n",
              "      <td>NaN</td>\n",
              "      <td>NaN</td>\n",
              "      <td>NaN</td>\n",
              "      <td>97.000000</td>\n",
              "      <td>0.832292</td>\n",
              "      <td>0.909722</td>\n",
              "      <td>54.100000</td>\n",
              "      <td>2414.000000</td>\n",
              "      <td>NaN</td>\n",
              "      <td>NaN</td>\n",
              "      <td>120.000000</td>\n",
              "      <td>NaN</td>\n",
              "      <td>3.310000</td>\n",
              "      <td>3.290000</td>\n",
              "      <td>9.000000</td>\n",
              "      <td>95.000000</td>\n",
              "      <td>5125.369458</td>\n",
              "      <td>24.000000</td>\n",
              "      <td>30.000000</td>\n",
              "      <td>10295.000000</td>\n",
              "      <td>9.791667</td>\n",
              "      <td>NaN</td>\n",
              "      <td>0.000000</td>\n",
              "      <td>1.000000</td>\n",
              "    </tr>\n",
              "    <tr>\n",
              "      <th>75%</th>\n",
              "      <td>2.000000</td>\n",
              "      <td>137.00000</td>\n",
              "      <td>NaN</td>\n",
              "      <td>NaN</td>\n",
              "      <td>NaN</td>\n",
              "      <td>NaN</td>\n",
              "      <td>NaN</td>\n",
              "      <td>NaN</td>\n",
              "      <td>102.400000</td>\n",
              "      <td>0.881788</td>\n",
              "      <td>0.925000</td>\n",
              "      <td>55.500000</td>\n",
              "      <td>2926.000000</td>\n",
              "      <td>NaN</td>\n",
              "      <td>NaN</td>\n",
              "      <td>141.000000</td>\n",
              "      <td>NaN</td>\n",
              "      <td>3.580000</td>\n",
              "      <td>3.410000</td>\n",
              "      <td>9.400000</td>\n",
              "      <td>116.000000</td>\n",
              "      <td>5500.000000</td>\n",
              "      <td>30.000000</td>\n",
              "      <td>34.000000</td>\n",
              "      <td>16500.000000</td>\n",
              "      <td>12.368421</td>\n",
              "      <td>NaN</td>\n",
              "      <td>0.000000</td>\n",
              "      <td>1.000000</td>\n",
              "    </tr>\n",
              "    <tr>\n",
              "      <th>max</th>\n",
              "      <td>3.000000</td>\n",
              "      <td>256.00000</td>\n",
              "      <td>NaN</td>\n",
              "      <td>NaN</td>\n",
              "      <td>NaN</td>\n",
              "      <td>NaN</td>\n",
              "      <td>NaN</td>\n",
              "      <td>NaN</td>\n",
              "      <td>120.900000</td>\n",
              "      <td>1.000000</td>\n",
              "      <td>1.000000</td>\n",
              "      <td>59.800000</td>\n",
              "      <td>4066.000000</td>\n",
              "      <td>NaN</td>\n",
              "      <td>NaN</td>\n",
              "      <td>326.000000</td>\n",
              "      <td>NaN</td>\n",
              "      <td>3.940000</td>\n",
              "      <td>4.170000</td>\n",
              "      <td>23.000000</td>\n",
              "      <td>262.000000</td>\n",
              "      <td>6600.000000</td>\n",
              "      <td>49.000000</td>\n",
              "      <td>54.000000</td>\n",
              "      <td>45400.000000</td>\n",
              "      <td>18.076923</td>\n",
              "      <td>NaN</td>\n",
              "      <td>1.000000</td>\n",
              "      <td>1.000000</td>\n",
              "    </tr>\n",
              "  </tbody>\n",
              "</table>\n",
              "</div>\n",
              "      <button class=\"colab-df-convert\" onclick=\"convertToInteractive('df-4043bd4b-1b68-4b5c-8142-d50e66f9133a')\"\n",
              "              title=\"Convert this dataframe to an interactive table.\"\n",
              "              style=\"display:none;\">\n",
              "        \n",
              "  <svg xmlns=\"http://www.w3.org/2000/svg\" height=\"24px\"viewBox=\"0 0 24 24\"\n",
              "       width=\"24px\">\n",
              "    <path d=\"M0 0h24v24H0V0z\" fill=\"none\"/>\n",
              "    <path d=\"M18.56 5.44l.94 2.06.94-2.06 2.06-.94-2.06-.94-.94-2.06-.94 2.06-2.06.94zm-11 1L8.5 8.5l.94-2.06 2.06-.94-2.06-.94L8.5 2.5l-.94 2.06-2.06.94zm10 10l.94 2.06.94-2.06 2.06-.94-2.06-.94-.94-2.06-.94 2.06-2.06.94z\"/><path d=\"M17.41 7.96l-1.37-1.37c-.4-.4-.92-.59-1.43-.59-.52 0-1.04.2-1.43.59L10.3 9.45l-7.72 7.72c-.78.78-.78 2.05 0 2.83L4 21.41c.39.39.9.59 1.41.59.51 0 1.02-.2 1.41-.59l7.78-7.78 2.81-2.81c.8-.78.8-2.07 0-2.86zM5.41 20L4 18.59l7.72-7.72 1.47 1.35L5.41 20z\"/>\n",
              "  </svg>\n",
              "      </button>\n",
              "      \n",
              "  <style>\n",
              "    .colab-df-container {\n",
              "      display:flex;\n",
              "      flex-wrap:wrap;\n",
              "      gap: 12px;\n",
              "    }\n",
              "\n",
              "    .colab-df-convert {\n",
              "      background-color: #E8F0FE;\n",
              "      border: none;\n",
              "      border-radius: 50%;\n",
              "      cursor: pointer;\n",
              "      display: none;\n",
              "      fill: #1967D2;\n",
              "      height: 32px;\n",
              "      padding: 0 0 0 0;\n",
              "      width: 32px;\n",
              "    }\n",
              "\n",
              "    .colab-df-convert:hover {\n",
              "      background-color: #E2EBFA;\n",
              "      box-shadow: 0px 1px 2px rgba(60, 64, 67, 0.3), 0px 1px 3px 1px rgba(60, 64, 67, 0.15);\n",
              "      fill: #174EA6;\n",
              "    }\n",
              "\n",
              "    [theme=dark] .colab-df-convert {\n",
              "      background-color: #3B4455;\n",
              "      fill: #D2E3FC;\n",
              "    }\n",
              "\n",
              "    [theme=dark] .colab-df-convert:hover {\n",
              "      background-color: #434B5C;\n",
              "      box-shadow: 0px 1px 3px 1px rgba(0, 0, 0, 0.15);\n",
              "      filter: drop-shadow(0px 1px 2px rgba(0, 0, 0, 0.3));\n",
              "      fill: #FFFFFF;\n",
              "    }\n",
              "  </style>\n",
              "\n",
              "      <script>\n",
              "        const buttonEl =\n",
              "          document.querySelector('#df-4043bd4b-1b68-4b5c-8142-d50e66f9133a button.colab-df-convert');\n",
              "        buttonEl.style.display =\n",
              "          google.colab.kernel.accessAllowed ? 'block' : 'none';\n",
              "\n",
              "        async function convertToInteractive(key) {\n",
              "          const element = document.querySelector('#df-4043bd4b-1b68-4b5c-8142-d50e66f9133a');\n",
              "          const dataTable =\n",
              "            await google.colab.kernel.invokeFunction('convertToInteractive',\n",
              "                                                     [key], {});\n",
              "          if (!dataTable) return;\n",
              "\n",
              "          const docLinkHtml = 'Like what you see? Visit the ' +\n",
              "            '<a target=\"_blank\" href=https://colab.research.google.com/notebooks/data_table.ipynb>data table notebook</a>'\n",
              "            + ' to learn more about interactive tables.';\n",
              "          element.innerHTML = '';\n",
              "          dataTable['output_type'] = 'display_data';\n",
              "          await google.colab.output.renderOutput(dataTable, element);\n",
              "          const docLink = document.createElement('div');\n",
              "          docLink.innerHTML = docLinkHtml;\n",
              "          element.appendChild(docLink);\n",
              "        }\n",
              "      </script>\n",
              "    </div>\n",
              "  </div>\n",
              "  "
            ]
          },
          "metadata": {},
          "execution_count": 6
        }
      ]
    },
    {
      "cell_type": "code",
      "source": [
        "# Looking the columns of the data\n",
        "df.columns"
      ],
      "metadata": {
        "colab": {
          "base_uri": "https://localhost:8080/"
        },
        "id": "DbkUlrC7IhLC",
        "outputId": "438990a3-b0e8-479c-8fb0-8b463368af7b"
      },
      "execution_count": 7,
      "outputs": [
        {
          "output_type": "execute_result",
          "data": {
            "text/plain": [
              "Index(['symboling', 'normalized-losses', 'make', 'aspiration', 'num-of-doors',\n",
              "       'body-style', 'drive-wheels', 'engine-location', 'wheel-base', 'length',\n",
              "       'width', 'height', 'curb-weight', 'engine-type', 'num-of-cylinders',\n",
              "       'engine-size', 'fuel-system', 'bore', 'stroke', 'compression-ratio',\n",
              "       'horsepower', 'peak-rpm', 'city-mpg', 'highway-mpg', 'price',\n",
              "       'city-L/100km', 'horsepower-binned', 'diesel', 'gas'],\n",
              "      dtype='object')"
            ]
          },
          "metadata": {},
          "execution_count": 7
        }
      ]
    },
    {
      "cell_type": "code",
      "source": [
        "df.info()"
      ],
      "metadata": {
        "colab": {
          "base_uri": "https://localhost:8080/"
        },
        "id": "opkssD4DQJL1",
        "outputId": "27507670-c4a8-4798-a25d-6a6ebbd9a1ec"
      },
      "execution_count": 8,
      "outputs": [
        {
          "output_type": "stream",
          "name": "stdout",
          "text": [
            "<class 'pandas.core.frame.DataFrame'>\n",
            "RangeIndex: 201 entries, 0 to 200\n",
            "Data columns (total 29 columns):\n",
            " #   Column             Non-Null Count  Dtype  \n",
            "---  ------             --------------  -----  \n",
            " 0   symboling          201 non-null    int64  \n",
            " 1   normalized-losses  201 non-null    int64  \n",
            " 2   make               201 non-null    object \n",
            " 3   aspiration         201 non-null    object \n",
            " 4   num-of-doors       201 non-null    object \n",
            " 5   body-style         201 non-null    object \n",
            " 6   drive-wheels       201 non-null    object \n",
            " 7   engine-location    201 non-null    object \n",
            " 8   wheel-base         201 non-null    float64\n",
            " 9   length             201 non-null    float64\n",
            " 10  width              201 non-null    float64\n",
            " 11  height             201 non-null    float64\n",
            " 12  curb-weight        201 non-null    int64  \n",
            " 13  engine-type        201 non-null    object \n",
            " 14  num-of-cylinders   201 non-null    object \n",
            " 15  engine-size        201 non-null    int64  \n",
            " 16  fuel-system        201 non-null    object \n",
            " 17  bore               201 non-null    float64\n",
            " 18  stroke             197 non-null    float64\n",
            " 19  compression-ratio  201 non-null    float64\n",
            " 20  horsepower         201 non-null    float64\n",
            " 21  peak-rpm           201 non-null    float64\n",
            " 22  city-mpg           201 non-null    int64  \n",
            " 23  highway-mpg        201 non-null    int64  \n",
            " 24  price              201 non-null    float64\n",
            " 25  city-L/100km       201 non-null    float64\n",
            " 26  horsepower-binned  200 non-null    object \n",
            " 27  diesel             201 non-null    int64  \n",
            " 28  gas                201 non-null    int64  \n",
            "dtypes: float64(11), int64(8), object(10)\n",
            "memory usage: 45.7+ KB\n"
          ]
        }
      ]
    },
    {
      "cell_type": "code",
      "metadata": {
        "id": "Do3EA7uYlbXU",
        "colab": {
          "base_uri": "https://localhost:8080/"
        },
        "outputId": "87b240a9-bb55-4522-fb25-2ab41ca56e02"
      },
      "source": [
        "#number of rows and columns in the data\n",
        "df.shape\n"
      ],
      "execution_count": 9,
      "outputs": [
        {
          "output_type": "execute_result",
          "data": {
            "text/plain": [
              "(201, 29)"
            ]
          },
          "metadata": {},
          "execution_count": 9
        }
      ]
    },
    {
      "cell_type": "code",
      "source": [
        "df = pd.get_dummies(df)"
      ],
      "metadata": {
        "id": "bmGaVGVdNtil"
      },
      "execution_count": 10,
      "outputs": []
    },
    {
      "cell_type": "code",
      "source": [
        "df.columns"
      ],
      "metadata": {
        "colab": {
          "base_uri": "https://localhost:8080/"
        },
        "id": "1WItL9xjJE9m",
        "outputId": "e80b89e6-0525-462c-fb45-9427e43468b9"
      },
      "execution_count": 11,
      "outputs": [
        {
          "output_type": "execute_result",
          "data": {
            "text/plain": [
              "Index(['symboling', 'normalized-losses', 'wheel-base', 'length', 'width',\n",
              "       'height', 'curb-weight', 'engine-size', 'bore', 'stroke',\n",
              "       'compression-ratio', 'horsepower', 'peak-rpm', 'city-mpg',\n",
              "       'highway-mpg', 'price', 'city-L/100km', 'diesel', 'gas',\n",
              "       'make_alfa-romero', 'make_audi', 'make_bmw', 'make_chevrolet',\n",
              "       'make_dodge', 'make_honda', 'make_isuzu', 'make_jaguar', 'make_mazda',\n",
              "       'make_mercedes-benz', 'make_mercury', 'make_mitsubishi', 'make_nissan',\n",
              "       'make_peugot', 'make_plymouth', 'make_porsche', 'make_renault',\n",
              "       'make_saab', 'make_subaru', 'make_toyota', 'make_volkswagen',\n",
              "       'make_volvo', 'aspiration_std', 'aspiration_turbo', 'num-of-doors_four',\n",
              "       'num-of-doors_two', 'body-style_convertible', 'body-style_hardtop',\n",
              "       'body-style_hatchback', 'body-style_sedan', 'body-style_wagon',\n",
              "       'drive-wheels_4wd', 'drive-wheels_fwd', 'drive-wheels_rwd',\n",
              "       'engine-location_front', 'engine-location_rear', 'engine-type_dohc',\n",
              "       'engine-type_l', 'engine-type_ohc', 'engine-type_ohcf',\n",
              "       'engine-type_ohcv', 'engine-type_rotor', 'num-of-cylinders_eight',\n",
              "       'num-of-cylinders_five', 'num-of-cylinders_four',\n",
              "       'num-of-cylinders_six', 'num-of-cylinders_three',\n",
              "       'num-of-cylinders_twelve', 'num-of-cylinders_two', 'fuel-system_1bbl',\n",
              "       'fuel-system_2bbl', 'fuel-system_4bbl', 'fuel-system_idi',\n",
              "       'fuel-system_mfi', 'fuel-system_mpfi', 'fuel-system_spdi',\n",
              "       'fuel-system_spfi', 'horsepower-binned_High', 'horsepower-binned_Low',\n",
              "       'horsepower-binned_Medium'],\n",
              "      dtype='object')"
            ]
          },
          "metadata": {},
          "execution_count": 11
        }
      ]
    },
    {
      "cell_type": "code",
      "source": [
        "df.dropna(inplace=True)# group by make/company then average\n",
        "df.shape"
      ],
      "metadata": {
        "colab": {
          "base_uri": "https://localhost:8080/"
        },
        "id": "moVJYdgLSTjq",
        "outputId": "e313b6cf-ac4f-4977-cc81-f4a09eaaf0b0"
      },
      "execution_count": 12,
      "outputs": [
        {
          "output_type": "execute_result",
          "data": {
            "text/plain": [
              "(197, 79)"
            ]
          },
          "metadata": {},
          "execution_count": 12
        }
      ]
    },
    {
      "cell_type": "code",
      "source": [
        "x = df.drop(['price'],axis=1)\n",
        "y = df['price']"
      ],
      "metadata": {
        "id": "me-Rj7v-PG8c"
      },
      "execution_count": 13,
      "outputs": []
    },
    {
      "cell_type": "code",
      "source": [
        "from sklearn.model_selection import train_test_split\n",
        "x_train, x_test, y_train, y_test = train_test_split(x, y, test_size=0.2, random_state=1)"
      ],
      "metadata": {
        "id": "N0zvbJ5dQ7TB"
      },
      "execution_count": 14,
      "outputs": []
    },
    {
      "cell_type": "markdown",
      "source": [
        "#Multiple Linear Regression"
      ],
      "metadata": {
        "id": "Pu2tlxHmJYKn"
      }
    },
    {
      "cell_type": "code",
      "source": [
        "from sklearn.linear_model import LinearRegression\n",
        "\n",
        "reg = LinearRegression()\n",
        "reg.fit(x_train, y_train)\n",
        "\n",
        "print(\"slope:\", reg.coef_[0])\n",
        "print(\"intercept\", reg.intercept_)\n",
        "\n",
        "# Algorith Performance\n",
        "y_pred = reg.predict(x_test)\n",
        "print(\"r2: \", metrics.r2_score(y_test,y_pred))\n",
        "print(\"mean square error: \", metrics.mean_squared_error(y_test,y_pred))"
      ],
      "metadata": {
        "colab": {
          "base_uri": "https://localhost:8080/"
        },
        "id": "ouZxfIoNRgOq",
        "outputId": "8ca8cf7f-67ec-4b31-d0f0-9c92bbe998a9"
      },
      "execution_count": 15,
      "outputs": [
        {
          "output_type": "stream",
          "name": "stdout",
          "text": [
            "slope: -824.4483442102446\n",
            "intercept 199.98922600047445\n",
            "r2:  0.9303454746172529\n",
            "mean square error:  4346166.515350741\n"
          ]
        }
      ]
    },
    {
      "cell_type": "code",
      "source": [
        "from statsmodels.api import OLS\n",
        "OLS(y_train,x_train).fit().summary()"
      ],
      "metadata": {
        "colab": {
          "base_uri": "https://localhost:8080/",
          "height": 1000
        },
        "id": "r5glw-EW2aNX",
        "outputId": "4783e3f3-e7d3-439e-ce82-a960b9d5cdb9"
      },
      "execution_count": 16,
      "outputs": [
        {
          "output_type": "stream",
          "name": "stderr",
          "text": [
            "/usr/local/lib/python3.7/dist-packages/statsmodels/tools/_testing.py:19: FutureWarning: pandas.util.testing is deprecated. Use the functions in the public API at pandas.testing instead.\n",
            "  import pandas.util.testing as tm\n",
            "/usr/local/lib/python3.7/dist-packages/statsmodels/base/model.py:1294: RuntimeWarning: invalid value encountered in true_divide\n",
            "  return self.params / self.bse\n"
          ]
        },
        {
          "output_type": "execute_result",
          "data": {
            "text/plain": [
              "<class 'statsmodels.iolib.summary.Summary'>\n",
              "\"\"\"\n",
              "                            OLS Regression Results                            \n",
              "==============================================================================\n",
              "Dep. Variable:                  price   R-squared:                       0.976\n",
              "Model:                            OLS   Adj. R-squared:                  0.961\n",
              "Method:                 Least Squares   F-statistic:                     64.27\n",
              "Date:                Fri, 08 Apr 2022   Prob (F-statistic):           2.09e-57\n",
              "Time:                        20:06:50   Log-Likelihood:                -1342.3\n",
              "No. Observations:                 157   AIC:                             2807.\n",
              "Df Residuals:                      96   BIC:                             2993.\n",
              "Df Model:                          60                                         \n",
              "Covariance Type:            nonrobust                                         \n",
              "============================================================================================\n",
              "                               coef    std err          t      P>|t|      [0.025      0.975]\n",
              "--------------------------------------------------------------------------------------------\n",
              "symboling                 -824.4483    288.869     -2.854      0.005   -1397.849    -251.048\n",
              "normalized-losses          -16.8532      8.285     -2.034      0.045     -33.299      -0.407\n",
              "wheel-base                 195.9562     98.906      1.981      0.050      -0.371     392.283\n",
              "length                   -2.533e+04   1.19e+04     -2.123      0.036    -4.9e+04   -1644.433\n",
              "width                     1.206e+04   1.97e+04      0.612      0.542   -2.71e+04    5.12e+04\n",
              "height                    -634.8488    193.406     -3.282      0.001   -1018.757    -250.941\n",
              "curb-weight                 11.0862      2.469      4.491      0.000       6.186      15.986\n",
              "engine-size                 95.3944     27.876      3.422      0.001      40.060     150.728\n",
              "bore                     -5404.4899   1961.460     -2.755      0.007   -9297.957   -1511.023\n",
              "stroke                    1031.2477   1232.025      0.837      0.405   -1414.303    3476.798\n",
              "compression-ratio         -607.8614    541.148     -1.123      0.264   -1682.032     466.309\n",
              "horsepower                -106.9236     36.454     -2.933      0.004    -179.284     -34.563\n",
              "peak-rpm                     3.2479      0.847      3.837      0.000       1.568       4.928\n",
              "city-mpg                   290.0954    191.132      1.518      0.132     -89.299     669.490\n",
              "highway-mpg                 83.3176    128.601      0.648      0.519    -171.954     338.589\n",
              "city-L/100km              1455.0837    496.258      2.932      0.004     470.020    2440.147\n",
              "diesel                    1756.4895   3820.699      0.460      0.647   -5827.539    9340.518\n",
              "gas                      -1698.1772   4022.310     -0.422      0.674   -9682.398    6286.044\n",
              "make_alfa-romero          1152.6023   1797.475      0.641      0.523   -2415.358    4720.562\n",
              "make_audi                 6604.8905   1870.386      3.531      0.001    2892.204    1.03e+04\n",
              "make_bmw                  8420.9870   1705.446      4.938      0.000    5035.703    1.18e+04\n",
              "make_chevrolet           -4012.7055   1814.125     -2.212      0.029   -7613.714    -411.697\n",
              "make_dodge               -4382.2898    961.067     -4.560      0.000   -6289.992   -2474.588\n",
              "make_honda               -3020.7156   1923.069     -1.571      0.120   -6837.978     796.547\n",
              "make_isuzu               -5421.4581   2025.586     -2.676      0.009   -9442.215   -1400.701\n",
              "make_jaguar              -5650.4624   3045.490     -1.855      0.067   -1.17e+04     394.787\n",
              "make_mazda                 812.9287    802.182      1.013      0.313    -779.389    2405.246\n",
              "make_mercedes-benz        6078.5112   1953.417      3.112      0.002    2201.009    9956.013\n",
              "make_mercury               516.3786   2370.108      0.218      0.828   -4188.248    5221.005\n",
              "make_mitsubishi          -3760.4741    939.491     -4.003      0.000   -5625.348   -1895.600\n",
              "make_nissan               -415.1541    788.424     -0.527      0.600   -1980.164    1149.856\n",
              "make_peugot              -4921.2046   1365.994     -3.603      0.001   -7632.681   -2209.728\n",
              "make_plymouth            -4810.9700   1048.969     -4.586      0.000   -6893.156   -2728.784\n",
              "make_porsche              9681.1222   2404.884      4.026      0.000    4907.465    1.45e+04\n",
              "make_renault              -953.0769   1707.578     -0.558      0.578   -4342.592    2436.438\n",
              "make_saab                 5946.0353   1873.847      3.173      0.002    2226.479    9665.591\n",
              "make_subaru              -1196.2247   1299.421     -0.921      0.360   -3775.554    1383.105\n",
              "make_toyota              -1287.2651    571.879     -2.251      0.027   -2422.435    -152.095\n",
              "make_volkswagen           1290.0906   1204.863      1.071      0.287   -1101.543    3681.724\n",
              "make_volvo                -613.2330   1483.842     -0.413      0.680   -3558.637    2332.171\n",
              "aspiration_std           -1608.5468   3389.463     -0.475      0.636   -8336.578    5119.484\n",
              "aspiration_turbo          1666.8592   3260.970      0.511      0.610   -4806.115    8139.834\n",
              "num-of-doors_four         -238.5214   3317.938     -0.072      0.943   -6824.576    6347.533\n",
              "num-of-doors_two           296.8338   3287.159      0.090      0.928   -6228.126    6821.793\n",
              "body-style_convertible    2245.3739   1629.755      1.378      0.171    -989.663    5480.411\n",
              "body-style_hardtop         608.4239   1648.266      0.369      0.713   -2663.358    3880.206\n",
              "body-style_hatchback     -1158.0022   1422.941     -0.814      0.418   -3982.518    1666.513\n",
              "body-style_sedan          -402.9785   1452.149     -0.278      0.782   -3285.471    2479.514\n",
              "body-style_wagon         -1234.5048   1484.096     -0.832      0.408   -4180.412    1711.402\n",
              "drive-wheels_4wd          -277.0413   2339.733     -0.118      0.906   -4921.375    4367.293\n",
              "drive-wheels_fwd          -735.7950   2195.826     -0.335      0.738   -5094.476    3622.886\n",
              "drive-wheels_rwd          1071.1487   2345.050      0.457      0.649   -3583.738    5726.035\n",
              "engine-location_front    -3641.5115   4040.959     -0.901      0.370   -1.17e+04    4379.729\n",
              "engine-location_rear      3699.8238   3150.863      1.174      0.243   -2554.590    9954.238\n",
              "engine-type_dohc          -544.4308   1483.315     -0.367      0.714   -3488.788    2399.927\n",
              "engine-type_l              245.3701   1514.124      0.162      0.872   -2760.141    3250.882\n",
              "engine-type_ohc           -203.1320   1319.320     -0.154      0.878   -2821.961    2415.697\n",
              "engine-type_ohcf          2503.5991   2192.570      1.142      0.256   -1848.617    6855.815\n",
              "engine-type_ohcv         -1943.0940   1672.898     -1.162      0.248   -5263.770    1377.582\n",
              "engine-type_rotor         1.761e-12   2.96e-12      0.594      0.554   -4.12e-12    7.64e-12\n",
              "num-of-cylinders_eight   -2689.2337   2841.521     -0.946      0.346   -8329.608    2951.141\n",
              "num-of-cylinders_five    -4575.5476   1915.107     -2.389      0.019   -8377.006    -774.089\n",
              "num-of-cylinders_four      433.0880   1904.213      0.227      0.821   -3346.745    4212.921\n",
              "num-of-cylinders_six      -963.9445   1277.973     -0.754      0.453   -3500.700    1572.811\n",
              "num-of-cylinders_three    5166.5747   2008.975      2.572      0.012    1178.791    9154.358\n",
              "num-of-cylinders_twelve   2687.3755   4780.002      0.562      0.575   -6800.854    1.22e+04\n",
              "num-of-cylinders_two              0          0        nan        nan           0           0\n",
              "fuel-system_1bbl         -1432.5636   1962.533     -0.730      0.467   -5328.161    2463.034\n",
              "fuel-system_2bbl           241.1505    975.322      0.247      0.805   -1694.849    2177.150\n",
              "fuel-system_4bbl                  0          0        nan        nan           0           0\n",
              "fuel-system_idi           1756.4895   3820.699      0.460      0.647   -5827.539    9340.518\n",
              "fuel-system_mfi                   0          0        nan        nan           0           0\n",
              "fuel-system_mpfi          -516.9168   1155.676     -0.447      0.656   -2810.915    1777.081\n",
              "fuel-system_spdi          -901.0749   1479.679     -0.609      0.544   -3838.215    2036.065\n",
              "fuel-system_spfi           911.2277   2352.062      0.387      0.699   -3757.579    5580.034\n",
              "horsepower-binned_High    1029.3169   1815.816      0.567      0.572   -2575.050    4633.684\n",
              "horsepower-binned_Low    -1425.9886   2195.943     -0.649      0.518   -5784.901    2932.924\n",
              "horsepower-binned_Medium -2232.3914   1847.905     -1.208      0.230   -5900.454    1435.671\n",
              "==============================================================================\n",
              "Omnibus:                       13.075   Durbin-Watson:                   1.969\n",
              "Prob(Omnibus):                  0.001   Jarque-Bera (JB):               23.248\n",
              "Skew:                           0.386   Prob(JB):                     8.95e-06\n",
              "Kurtosis:                       4.720   Cond. No.                     1.23e+16\n",
              "==============================================================================\n",
              "\n",
              "Warnings:\n",
              "[1] Standard Errors assume that the covariance matrix of the errors is correctly specified.\n",
              "[2] The smallest eigenvalue is 3.39e-23. This might indicate that there are\n",
              "strong multicollinearity problems or that the design matrix is singular.\n",
              "\"\"\""
            ],
            "text/html": [
              "<table class=\"simpletable\">\n",
              "<caption>OLS Regression Results</caption>\n",
              "<tr>\n",
              "  <th>Dep. Variable:</th>          <td>price</td>      <th>  R-squared:         </th> <td>   0.976</td>\n",
              "</tr>\n",
              "<tr>\n",
              "  <th>Model:</th>                   <td>OLS</td>       <th>  Adj. R-squared:    </th> <td>   0.961</td>\n",
              "</tr>\n",
              "<tr>\n",
              "  <th>Method:</th>             <td>Least Squares</td>  <th>  F-statistic:       </th> <td>   64.27</td>\n",
              "</tr>\n",
              "<tr>\n",
              "  <th>Date:</th>             <td>Fri, 08 Apr 2022</td> <th>  Prob (F-statistic):</th> <td>2.09e-57</td>\n",
              "</tr>\n",
              "<tr>\n",
              "  <th>Time:</th>                 <td>20:06:50</td>     <th>  Log-Likelihood:    </th> <td> -1342.3</td>\n",
              "</tr>\n",
              "<tr>\n",
              "  <th>No. Observations:</th>      <td>   157</td>      <th>  AIC:               </th> <td>   2807.</td>\n",
              "</tr>\n",
              "<tr>\n",
              "  <th>Df Residuals:</th>          <td>    96</td>      <th>  BIC:               </th> <td>   2993.</td>\n",
              "</tr>\n",
              "<tr>\n",
              "  <th>Df Model:</th>              <td>    60</td>      <th>                     </th>     <td> </td>   \n",
              "</tr>\n",
              "<tr>\n",
              "  <th>Covariance Type:</th>      <td>nonrobust</td>    <th>                     </th>     <td> </td>   \n",
              "</tr>\n",
              "</table>\n",
              "<table class=\"simpletable\">\n",
              "<tr>\n",
              "              <td></td>                <th>coef</th>     <th>std err</th>      <th>t</th>      <th>P>|t|</th>  <th>[0.025</th>    <th>0.975]</th>  \n",
              "</tr>\n",
              "<tr>\n",
              "  <th>symboling</th>                <td> -824.4483</td> <td>  288.869</td> <td>   -2.854</td> <td> 0.005</td> <td>-1397.849</td> <td> -251.048</td>\n",
              "</tr>\n",
              "<tr>\n",
              "  <th>normalized-losses</th>        <td>  -16.8532</td> <td>    8.285</td> <td>   -2.034</td> <td> 0.045</td> <td>  -33.299</td> <td>   -0.407</td>\n",
              "</tr>\n",
              "<tr>\n",
              "  <th>wheel-base</th>               <td>  195.9562</td> <td>   98.906</td> <td>    1.981</td> <td> 0.050</td> <td>   -0.371</td> <td>  392.283</td>\n",
              "</tr>\n",
              "<tr>\n",
              "  <th>length</th>                   <td>-2.533e+04</td> <td> 1.19e+04</td> <td>   -2.123</td> <td> 0.036</td> <td> -4.9e+04</td> <td>-1644.433</td>\n",
              "</tr>\n",
              "<tr>\n",
              "  <th>width</th>                    <td> 1.206e+04</td> <td> 1.97e+04</td> <td>    0.612</td> <td> 0.542</td> <td>-2.71e+04</td> <td> 5.12e+04</td>\n",
              "</tr>\n",
              "<tr>\n",
              "  <th>height</th>                   <td> -634.8488</td> <td>  193.406</td> <td>   -3.282</td> <td> 0.001</td> <td>-1018.757</td> <td> -250.941</td>\n",
              "</tr>\n",
              "<tr>\n",
              "  <th>curb-weight</th>              <td>   11.0862</td> <td>    2.469</td> <td>    4.491</td> <td> 0.000</td> <td>    6.186</td> <td>   15.986</td>\n",
              "</tr>\n",
              "<tr>\n",
              "  <th>engine-size</th>              <td>   95.3944</td> <td>   27.876</td> <td>    3.422</td> <td> 0.001</td> <td>   40.060</td> <td>  150.728</td>\n",
              "</tr>\n",
              "<tr>\n",
              "  <th>bore</th>                     <td>-5404.4899</td> <td> 1961.460</td> <td>   -2.755</td> <td> 0.007</td> <td>-9297.957</td> <td>-1511.023</td>\n",
              "</tr>\n",
              "<tr>\n",
              "  <th>stroke</th>                   <td> 1031.2477</td> <td> 1232.025</td> <td>    0.837</td> <td> 0.405</td> <td>-1414.303</td> <td> 3476.798</td>\n",
              "</tr>\n",
              "<tr>\n",
              "  <th>compression-ratio</th>        <td> -607.8614</td> <td>  541.148</td> <td>   -1.123</td> <td> 0.264</td> <td>-1682.032</td> <td>  466.309</td>\n",
              "</tr>\n",
              "<tr>\n",
              "  <th>horsepower</th>               <td> -106.9236</td> <td>   36.454</td> <td>   -2.933</td> <td> 0.004</td> <td> -179.284</td> <td>  -34.563</td>\n",
              "</tr>\n",
              "<tr>\n",
              "  <th>peak-rpm</th>                 <td>    3.2479</td> <td>    0.847</td> <td>    3.837</td> <td> 0.000</td> <td>    1.568</td> <td>    4.928</td>\n",
              "</tr>\n",
              "<tr>\n",
              "  <th>city-mpg</th>                 <td>  290.0954</td> <td>  191.132</td> <td>    1.518</td> <td> 0.132</td> <td>  -89.299</td> <td>  669.490</td>\n",
              "</tr>\n",
              "<tr>\n",
              "  <th>highway-mpg</th>              <td>   83.3176</td> <td>  128.601</td> <td>    0.648</td> <td> 0.519</td> <td> -171.954</td> <td>  338.589</td>\n",
              "</tr>\n",
              "<tr>\n",
              "  <th>city-L/100km</th>             <td> 1455.0837</td> <td>  496.258</td> <td>    2.932</td> <td> 0.004</td> <td>  470.020</td> <td> 2440.147</td>\n",
              "</tr>\n",
              "<tr>\n",
              "  <th>diesel</th>                   <td> 1756.4895</td> <td> 3820.699</td> <td>    0.460</td> <td> 0.647</td> <td>-5827.539</td> <td> 9340.518</td>\n",
              "</tr>\n",
              "<tr>\n",
              "  <th>gas</th>                      <td>-1698.1772</td> <td> 4022.310</td> <td>   -0.422</td> <td> 0.674</td> <td>-9682.398</td> <td> 6286.044</td>\n",
              "</tr>\n",
              "<tr>\n",
              "  <th>make_alfa-romero</th>         <td> 1152.6023</td> <td> 1797.475</td> <td>    0.641</td> <td> 0.523</td> <td>-2415.358</td> <td> 4720.562</td>\n",
              "</tr>\n",
              "<tr>\n",
              "  <th>make_audi</th>                <td> 6604.8905</td> <td> 1870.386</td> <td>    3.531</td> <td> 0.001</td> <td> 2892.204</td> <td> 1.03e+04</td>\n",
              "</tr>\n",
              "<tr>\n",
              "  <th>make_bmw</th>                 <td> 8420.9870</td> <td> 1705.446</td> <td>    4.938</td> <td> 0.000</td> <td> 5035.703</td> <td> 1.18e+04</td>\n",
              "</tr>\n",
              "<tr>\n",
              "  <th>make_chevrolet</th>           <td>-4012.7055</td> <td> 1814.125</td> <td>   -2.212</td> <td> 0.029</td> <td>-7613.714</td> <td> -411.697</td>\n",
              "</tr>\n",
              "<tr>\n",
              "  <th>make_dodge</th>               <td>-4382.2898</td> <td>  961.067</td> <td>   -4.560</td> <td> 0.000</td> <td>-6289.992</td> <td>-2474.588</td>\n",
              "</tr>\n",
              "<tr>\n",
              "  <th>make_honda</th>               <td>-3020.7156</td> <td> 1923.069</td> <td>   -1.571</td> <td> 0.120</td> <td>-6837.978</td> <td>  796.547</td>\n",
              "</tr>\n",
              "<tr>\n",
              "  <th>make_isuzu</th>               <td>-5421.4581</td> <td> 2025.586</td> <td>   -2.676</td> <td> 0.009</td> <td>-9442.215</td> <td>-1400.701</td>\n",
              "</tr>\n",
              "<tr>\n",
              "  <th>make_jaguar</th>              <td>-5650.4624</td> <td> 3045.490</td> <td>   -1.855</td> <td> 0.067</td> <td>-1.17e+04</td> <td>  394.787</td>\n",
              "</tr>\n",
              "<tr>\n",
              "  <th>make_mazda</th>               <td>  812.9287</td> <td>  802.182</td> <td>    1.013</td> <td> 0.313</td> <td> -779.389</td> <td> 2405.246</td>\n",
              "</tr>\n",
              "<tr>\n",
              "  <th>make_mercedes-benz</th>       <td> 6078.5112</td> <td> 1953.417</td> <td>    3.112</td> <td> 0.002</td> <td> 2201.009</td> <td> 9956.013</td>\n",
              "</tr>\n",
              "<tr>\n",
              "  <th>make_mercury</th>             <td>  516.3786</td> <td> 2370.108</td> <td>    0.218</td> <td> 0.828</td> <td>-4188.248</td> <td> 5221.005</td>\n",
              "</tr>\n",
              "<tr>\n",
              "  <th>make_mitsubishi</th>          <td>-3760.4741</td> <td>  939.491</td> <td>   -4.003</td> <td> 0.000</td> <td>-5625.348</td> <td>-1895.600</td>\n",
              "</tr>\n",
              "<tr>\n",
              "  <th>make_nissan</th>              <td> -415.1541</td> <td>  788.424</td> <td>   -0.527</td> <td> 0.600</td> <td>-1980.164</td> <td> 1149.856</td>\n",
              "</tr>\n",
              "<tr>\n",
              "  <th>make_peugot</th>              <td>-4921.2046</td> <td> 1365.994</td> <td>   -3.603</td> <td> 0.001</td> <td>-7632.681</td> <td>-2209.728</td>\n",
              "</tr>\n",
              "<tr>\n",
              "  <th>make_plymouth</th>            <td>-4810.9700</td> <td> 1048.969</td> <td>   -4.586</td> <td> 0.000</td> <td>-6893.156</td> <td>-2728.784</td>\n",
              "</tr>\n",
              "<tr>\n",
              "  <th>make_porsche</th>             <td> 9681.1222</td> <td> 2404.884</td> <td>    4.026</td> <td> 0.000</td> <td> 4907.465</td> <td> 1.45e+04</td>\n",
              "</tr>\n",
              "<tr>\n",
              "  <th>make_renault</th>             <td> -953.0769</td> <td> 1707.578</td> <td>   -0.558</td> <td> 0.578</td> <td>-4342.592</td> <td> 2436.438</td>\n",
              "</tr>\n",
              "<tr>\n",
              "  <th>make_saab</th>                <td> 5946.0353</td> <td> 1873.847</td> <td>    3.173</td> <td> 0.002</td> <td> 2226.479</td> <td> 9665.591</td>\n",
              "</tr>\n",
              "<tr>\n",
              "  <th>make_subaru</th>              <td>-1196.2247</td> <td> 1299.421</td> <td>   -0.921</td> <td> 0.360</td> <td>-3775.554</td> <td> 1383.105</td>\n",
              "</tr>\n",
              "<tr>\n",
              "  <th>make_toyota</th>              <td>-1287.2651</td> <td>  571.879</td> <td>   -2.251</td> <td> 0.027</td> <td>-2422.435</td> <td> -152.095</td>\n",
              "</tr>\n",
              "<tr>\n",
              "  <th>make_volkswagen</th>          <td> 1290.0906</td> <td> 1204.863</td> <td>    1.071</td> <td> 0.287</td> <td>-1101.543</td> <td> 3681.724</td>\n",
              "</tr>\n",
              "<tr>\n",
              "  <th>make_volvo</th>               <td> -613.2330</td> <td> 1483.842</td> <td>   -0.413</td> <td> 0.680</td> <td>-3558.637</td> <td> 2332.171</td>\n",
              "</tr>\n",
              "<tr>\n",
              "  <th>aspiration_std</th>           <td>-1608.5468</td> <td> 3389.463</td> <td>   -0.475</td> <td> 0.636</td> <td>-8336.578</td> <td> 5119.484</td>\n",
              "</tr>\n",
              "<tr>\n",
              "  <th>aspiration_turbo</th>         <td> 1666.8592</td> <td> 3260.970</td> <td>    0.511</td> <td> 0.610</td> <td>-4806.115</td> <td> 8139.834</td>\n",
              "</tr>\n",
              "<tr>\n",
              "  <th>num-of-doors_four</th>        <td> -238.5214</td> <td> 3317.938</td> <td>   -0.072</td> <td> 0.943</td> <td>-6824.576</td> <td> 6347.533</td>\n",
              "</tr>\n",
              "<tr>\n",
              "  <th>num-of-doors_two</th>         <td>  296.8338</td> <td> 3287.159</td> <td>    0.090</td> <td> 0.928</td> <td>-6228.126</td> <td> 6821.793</td>\n",
              "</tr>\n",
              "<tr>\n",
              "  <th>body-style_convertible</th>   <td> 2245.3739</td> <td> 1629.755</td> <td>    1.378</td> <td> 0.171</td> <td> -989.663</td> <td> 5480.411</td>\n",
              "</tr>\n",
              "<tr>\n",
              "  <th>body-style_hardtop</th>       <td>  608.4239</td> <td> 1648.266</td> <td>    0.369</td> <td> 0.713</td> <td>-2663.358</td> <td> 3880.206</td>\n",
              "</tr>\n",
              "<tr>\n",
              "  <th>body-style_hatchback</th>     <td>-1158.0022</td> <td> 1422.941</td> <td>   -0.814</td> <td> 0.418</td> <td>-3982.518</td> <td> 1666.513</td>\n",
              "</tr>\n",
              "<tr>\n",
              "  <th>body-style_sedan</th>         <td> -402.9785</td> <td> 1452.149</td> <td>   -0.278</td> <td> 0.782</td> <td>-3285.471</td> <td> 2479.514</td>\n",
              "</tr>\n",
              "<tr>\n",
              "  <th>body-style_wagon</th>         <td>-1234.5048</td> <td> 1484.096</td> <td>   -0.832</td> <td> 0.408</td> <td>-4180.412</td> <td> 1711.402</td>\n",
              "</tr>\n",
              "<tr>\n",
              "  <th>drive-wheels_4wd</th>         <td> -277.0413</td> <td> 2339.733</td> <td>   -0.118</td> <td> 0.906</td> <td>-4921.375</td> <td> 4367.293</td>\n",
              "</tr>\n",
              "<tr>\n",
              "  <th>drive-wheels_fwd</th>         <td> -735.7950</td> <td> 2195.826</td> <td>   -0.335</td> <td> 0.738</td> <td>-5094.476</td> <td> 3622.886</td>\n",
              "</tr>\n",
              "<tr>\n",
              "  <th>drive-wheels_rwd</th>         <td> 1071.1487</td> <td> 2345.050</td> <td>    0.457</td> <td> 0.649</td> <td>-3583.738</td> <td> 5726.035</td>\n",
              "</tr>\n",
              "<tr>\n",
              "  <th>engine-location_front</th>    <td>-3641.5115</td> <td> 4040.959</td> <td>   -0.901</td> <td> 0.370</td> <td>-1.17e+04</td> <td> 4379.729</td>\n",
              "</tr>\n",
              "<tr>\n",
              "  <th>engine-location_rear</th>     <td> 3699.8238</td> <td> 3150.863</td> <td>    1.174</td> <td> 0.243</td> <td>-2554.590</td> <td> 9954.238</td>\n",
              "</tr>\n",
              "<tr>\n",
              "  <th>engine-type_dohc</th>         <td> -544.4308</td> <td> 1483.315</td> <td>   -0.367</td> <td> 0.714</td> <td>-3488.788</td> <td> 2399.927</td>\n",
              "</tr>\n",
              "<tr>\n",
              "  <th>engine-type_l</th>            <td>  245.3701</td> <td> 1514.124</td> <td>    0.162</td> <td> 0.872</td> <td>-2760.141</td> <td> 3250.882</td>\n",
              "</tr>\n",
              "<tr>\n",
              "  <th>engine-type_ohc</th>          <td> -203.1320</td> <td> 1319.320</td> <td>   -0.154</td> <td> 0.878</td> <td>-2821.961</td> <td> 2415.697</td>\n",
              "</tr>\n",
              "<tr>\n",
              "  <th>engine-type_ohcf</th>         <td> 2503.5991</td> <td> 2192.570</td> <td>    1.142</td> <td> 0.256</td> <td>-1848.617</td> <td> 6855.815</td>\n",
              "</tr>\n",
              "<tr>\n",
              "  <th>engine-type_ohcv</th>         <td>-1943.0940</td> <td> 1672.898</td> <td>   -1.162</td> <td> 0.248</td> <td>-5263.770</td> <td> 1377.582</td>\n",
              "</tr>\n",
              "<tr>\n",
              "  <th>engine-type_rotor</th>        <td> 1.761e-12</td> <td> 2.96e-12</td> <td>    0.594</td> <td> 0.554</td> <td>-4.12e-12</td> <td> 7.64e-12</td>\n",
              "</tr>\n",
              "<tr>\n",
              "  <th>num-of-cylinders_eight</th>   <td>-2689.2337</td> <td> 2841.521</td> <td>   -0.946</td> <td> 0.346</td> <td>-8329.608</td> <td> 2951.141</td>\n",
              "</tr>\n",
              "<tr>\n",
              "  <th>num-of-cylinders_five</th>    <td>-4575.5476</td> <td> 1915.107</td> <td>   -2.389</td> <td> 0.019</td> <td>-8377.006</td> <td> -774.089</td>\n",
              "</tr>\n",
              "<tr>\n",
              "  <th>num-of-cylinders_four</th>    <td>  433.0880</td> <td> 1904.213</td> <td>    0.227</td> <td> 0.821</td> <td>-3346.745</td> <td> 4212.921</td>\n",
              "</tr>\n",
              "<tr>\n",
              "  <th>num-of-cylinders_six</th>     <td> -963.9445</td> <td> 1277.973</td> <td>   -0.754</td> <td> 0.453</td> <td>-3500.700</td> <td> 1572.811</td>\n",
              "</tr>\n",
              "<tr>\n",
              "  <th>num-of-cylinders_three</th>   <td> 5166.5747</td> <td> 2008.975</td> <td>    2.572</td> <td> 0.012</td> <td> 1178.791</td> <td> 9154.358</td>\n",
              "</tr>\n",
              "<tr>\n",
              "  <th>num-of-cylinders_twelve</th>  <td> 2687.3755</td> <td> 4780.002</td> <td>    0.562</td> <td> 0.575</td> <td>-6800.854</td> <td> 1.22e+04</td>\n",
              "</tr>\n",
              "<tr>\n",
              "  <th>num-of-cylinders_two</th>     <td>         0</td> <td>        0</td> <td>      nan</td> <td>   nan</td> <td>        0</td> <td>        0</td>\n",
              "</tr>\n",
              "<tr>\n",
              "  <th>fuel-system_1bbl</th>         <td>-1432.5636</td> <td> 1962.533</td> <td>   -0.730</td> <td> 0.467</td> <td>-5328.161</td> <td> 2463.034</td>\n",
              "</tr>\n",
              "<tr>\n",
              "  <th>fuel-system_2bbl</th>         <td>  241.1505</td> <td>  975.322</td> <td>    0.247</td> <td> 0.805</td> <td>-1694.849</td> <td> 2177.150</td>\n",
              "</tr>\n",
              "<tr>\n",
              "  <th>fuel-system_4bbl</th>         <td>         0</td> <td>        0</td> <td>      nan</td> <td>   nan</td> <td>        0</td> <td>        0</td>\n",
              "</tr>\n",
              "<tr>\n",
              "  <th>fuel-system_idi</th>          <td> 1756.4895</td> <td> 3820.699</td> <td>    0.460</td> <td> 0.647</td> <td>-5827.539</td> <td> 9340.518</td>\n",
              "</tr>\n",
              "<tr>\n",
              "  <th>fuel-system_mfi</th>          <td>         0</td> <td>        0</td> <td>      nan</td> <td>   nan</td> <td>        0</td> <td>        0</td>\n",
              "</tr>\n",
              "<tr>\n",
              "  <th>fuel-system_mpfi</th>         <td> -516.9168</td> <td> 1155.676</td> <td>   -0.447</td> <td> 0.656</td> <td>-2810.915</td> <td> 1777.081</td>\n",
              "</tr>\n",
              "<tr>\n",
              "  <th>fuel-system_spdi</th>         <td> -901.0749</td> <td> 1479.679</td> <td>   -0.609</td> <td> 0.544</td> <td>-3838.215</td> <td> 2036.065</td>\n",
              "</tr>\n",
              "<tr>\n",
              "  <th>fuel-system_spfi</th>         <td>  911.2277</td> <td> 2352.062</td> <td>    0.387</td> <td> 0.699</td> <td>-3757.579</td> <td> 5580.034</td>\n",
              "</tr>\n",
              "<tr>\n",
              "  <th>horsepower-binned_High</th>   <td> 1029.3169</td> <td> 1815.816</td> <td>    0.567</td> <td> 0.572</td> <td>-2575.050</td> <td> 4633.684</td>\n",
              "</tr>\n",
              "<tr>\n",
              "  <th>horsepower-binned_Low</th>    <td>-1425.9886</td> <td> 2195.943</td> <td>   -0.649</td> <td> 0.518</td> <td>-5784.901</td> <td> 2932.924</td>\n",
              "</tr>\n",
              "<tr>\n",
              "  <th>horsepower-binned_Medium</th> <td>-2232.3914</td> <td> 1847.905</td> <td>   -1.208</td> <td> 0.230</td> <td>-5900.454</td> <td> 1435.671</td>\n",
              "</tr>\n",
              "</table>\n",
              "<table class=\"simpletable\">\n",
              "<tr>\n",
              "  <th>Omnibus:</th>       <td>13.075</td> <th>  Durbin-Watson:     </th> <td>   1.969</td>\n",
              "</tr>\n",
              "<tr>\n",
              "  <th>Prob(Omnibus):</th> <td> 0.001</td> <th>  Jarque-Bera (JB):  </th> <td>  23.248</td>\n",
              "</tr>\n",
              "<tr>\n",
              "  <th>Skew:</th>          <td> 0.386</td> <th>  Prob(JB):          </th> <td>8.95e-06</td>\n",
              "</tr>\n",
              "<tr>\n",
              "  <th>Kurtosis:</th>      <td> 4.720</td> <th>  Cond. No.          </th> <td>1.23e+16</td>\n",
              "</tr>\n",
              "</table><br/><br/>Warnings:<br/>[1] Standard Errors assume that the covariance matrix of the errors is correctly specified.<br/>[2] The smallest eigenvalue is 3.39e-23. This might indicate that there are<br/>strong multicollinearity problems or that the design matrix is singular."
            ]
          },
          "metadata": {},
          "execution_count": 16
        }
      ]
    },
    {
      "cell_type": "code",
      "source": [
        "#Plotting the actual and the predicted values.\n",
        "width = 5\n",
        "height = 5\n",
        "plt.figure(figsize=(width, height))\n",
        "ax1 = sns.distplot(y_test, hist=False, color=\"r\", label=\"Actual Value\")\n",
        "sns.distplot(y_pred, hist=False, color=\"b\", label=\"Fitted Values\" , ax=ax1)\n",
        "plt.gca().legend((\"Actual\",\"Fitted\"))\n",
        "plt.title('Actual vs Fitted Values for Weight')\n",
        "plt.xlabel('Price (in dollars)')\n",
        "plt.ylabel('Proportion of Cars')\n",
        "\n",
        "plt.show()\n",
        "plt.close()"
      ],
      "metadata": {
        "colab": {
          "base_uri": "https://localhost:8080/",
          "height": 439
        },
        "id": "yZ2UaNP5RoSB",
        "outputId": "557b4388-8ba1-4e43-dbf7-0f422af9044c"
      },
      "execution_count": 17,
      "outputs": [
        {
          "output_type": "stream",
          "name": "stderr",
          "text": [
            "/usr/local/lib/python3.7/dist-packages/seaborn/distributions.py:2619: FutureWarning: `distplot` is a deprecated function and will be removed in a future version. Please adapt your code to use either `displot` (a figure-level function with similar flexibility) or `kdeplot` (an axes-level function for kernel density plots).\n",
            "  warnings.warn(msg, FutureWarning)\n",
            "/usr/local/lib/python3.7/dist-packages/seaborn/distributions.py:2619: FutureWarning: `distplot` is a deprecated function and will be removed in a future version. Please adapt your code to use either `displot` (a figure-level function with similar flexibility) or `kdeplot` (an axes-level function for kernel density plots).\n",
            "  warnings.warn(msg, FutureWarning)\n"
          ]
        },
        {
          "output_type": "display_data",
          "data": {
            "text/plain": [
              "<Figure size 360x360 with 1 Axes>"
            ],
            "image/png": "[encoded data removed]"
          },
          "metadata": {
            "needs_background": "light"
          }
        }
      ]
    },
    {
      "cell_type": "code",
      "source": [
        "n=list(range(1,70))\n",
        "rsq=[]\n",
        "for i in  n:\n",
        "  from sklearn import linear_model\n",
        "  reg = linear_model.Lars(n_nonzero_coefs=i, normalize=False)\n",
        "  reg.fit(x_train, y_train)\n",
        "  # Algorith Performance\n",
        "  y_pred = reg.predict(x_test)\n",
        "  #print(\"r2: \", metrics.r2_score(y_test,y_pred))\n",
        "  #print(\"mean square error: \", metrics.mean_squared_error(y_test,y_pred))\n",
        "  rsq.append(metrics.r2_score(y_test,y_pred))\n",
        "  \n"
      ],
      "metadata": {
        "colab": {
          "base_uri": "https://localhost:8080/"
        },
        "id": "artXGXgpIzko",
        "outputId": "5326897b-a05e-463c-ace3-da39dd3d11d7"
      },
      "execution_count": 18,
      "outputs": [
        {
          "output_type": "stream",
          "name": "stderr",
          "text": [
            "/usr/local/lib/python3.7/dist-packages/sklearn/linear_model/_least_angle.py:660: ConvergenceWarning: Regressors in active set degenerate. Dropping a regressor, after 56 iterations, i.e. alpha=1.742e+01, with an active set of 47 regressors, and the smallest cholesky pivot element being 8.429e-08. Reduce max_iter or increase eps parameters.\n",
            "  ConvergenceWarning,\n",
            "/usr/local/lib/python3.7/dist-packages/sklearn/linear_model/_least_angle.py:660: ConvergenceWarning: Regressors in active set degenerate. Dropping a regressor, after 56 iterations, i.e. alpha=1.742e+01, with an active set of 47 regressors, and the smallest cholesky pivot element being 8.429e-08. Reduce max_iter or increase eps parameters.\n",
            "  ConvergenceWarning,\n",
            "/usr/local/lib/python3.7/dist-packages/sklearn/linear_model/_least_angle.py:660: ConvergenceWarning: Regressors in active set degenerate. Dropping a regressor, after 56 iterations, i.e. alpha=1.742e+01, with an active set of 47 regressors, and the smallest cholesky pivot element being 8.429e-08. Reduce max_iter or increase eps parameters.\n",
            "  ConvergenceWarning,\n",
            "/usr/local/lib/python3.7/dist-packages/sklearn/linear_model/_least_angle.py:660: ConvergenceWarning: Regressors in active set degenerate. Dropping a regressor, after 56 iterations, i.e. alpha=1.742e+01, with an active set of 47 regressors, and the smallest cholesky pivot element being 8.429e-08. Reduce max_iter or increase eps parameters.\n",
            "  ConvergenceWarning,\n",
            "/usr/local/lib/python3.7/dist-packages/sklearn/linear_model/_least_angle.py:660: ConvergenceWarning: Regressors in active set degenerate. Dropping a regressor, after 56 iterations, i.e. alpha=1.742e+01, with an active set of 47 regressors, and the smallest cholesky pivot element being 8.429e-08. Reduce max_iter or increase eps parameters.\n",
            "  ConvergenceWarning,\n",
            "/usr/local/lib/python3.7/dist-packages/sklearn/linear_model/_least_angle.py:660: ConvergenceWarning: Regressors in active set degenerate. Dropping a regressor, after 56 iterations, i.e. alpha=1.742e+01, with an active set of 47 regressors, and the smallest cholesky pivot element being 8.429e-08. Reduce max_iter or increase eps parameters.\n",
            "  ConvergenceWarning,\n",
            "/usr/local/lib/python3.7/dist-packages/sklearn/linear_model/_least_angle.py:660: ConvergenceWarning: Regressors in active set degenerate. Dropping a regressor, after 56 iterations, i.e. alpha=1.742e+01, with an active set of 47 regressors, and the smallest cholesky pivot element being 8.429e-08. Reduce max_iter or increase eps parameters.\n",
            "  ConvergenceWarning,\n",
            "/usr/local/lib/python3.7/dist-packages/sklearn/linear_model/_least_angle.py:660: ConvergenceWarning: Regressors in active set degenerate. Dropping a regressor, after 56 iterations, i.e. alpha=1.742e+01, with an active set of 47 regressors, and the smallest cholesky pivot element being 8.429e-08. Reduce max_iter or increase eps parameters.\n",
            "  ConvergenceWarning,\n",
            "/usr/local/lib/python3.7/dist-packages/sklearn/linear_model/_least_angle.py:660: ConvergenceWarning: Regressors in active set degenerate. Dropping a regressor, after 56 iterations, i.e. alpha=1.742e+01, with an active set of 47 regressors, and the smallest cholesky pivot element being 8.429e-08. Reduce max_iter or increase eps parameters.\n",
            "  ConvergenceWarning,\n",
            "/usr/local/lib/python3.7/dist-packages/sklearn/linear_model/_least_angle.py:660: ConvergenceWarning: Regressors in active set degenerate. Dropping a regressor, after 56 iterations, i.e. alpha=1.742e+01, with an active set of 47 regressors, and the smallest cholesky pivot element being 8.429e-08. Reduce max_iter or increase eps parameters.\n",
            "  ConvergenceWarning,\n",
            "/usr/local/lib/python3.7/dist-packages/sklearn/linear_model/_least_angle.py:660: ConvergenceWarning: Regressors in active set degenerate. Dropping a regressor, after 56 iterations, i.e. alpha=1.742e+01, with an active set of 47 regressors, and the smallest cholesky pivot element being 8.429e-08. Reduce max_iter or increase eps parameters.\n",
            "  ConvergenceWarning,\n",
            "/usr/local/lib/python3.7/dist-packages/sklearn/linear_model/_least_angle.py:660: ConvergenceWarning: Regressors in active set degenerate. Dropping a regressor, after 56 iterations, i.e. alpha=1.742e+01, with an active set of 47 regressors, and the smallest cholesky pivot element being 8.429e-08. Reduce max_iter or increase eps parameters.\n",
            "  ConvergenceWarning,\n",
            "/usr/local/lib/python3.7/dist-packages/sklearn/linear_model/_least_angle.py:660: ConvergenceWarning: Regressors in active set degenerate. Dropping a regressor, after 56 iterations, i.e. alpha=1.742e+01, with an active set of 47 regressors, and the smallest cholesky pivot element being 8.429e-08. Reduce max_iter or increase eps parameters.\n",
            "  ConvergenceWarning,\n"
          ]
        }
      ]
    },
    {
      "cell_type": "code",
      "source": [
        "fig = plt.figure()\n",
        "plt.plot(n, rsq, '-')\n",
        "plt.scatter(n,rsq)"
      ],
      "metadata": {
        "colab": {
          "base_uri": "https://localhost:8080/",
          "height": 282
        },
        "id": "rYDdq5PyRnoU",
        "outputId": "db3adbc2-1410-42ff-9c9c-66ad31167030"
      },
      "execution_count": 19,
      "outputs": [
        {
          "output_type": "execute_result",
          "data": {
            "text/plain": [
              "<matplotlib.collections.PathCollection at 0x7f4a11a18e10>"
            ]
          },
          "metadata": {},
          "execution_count": 19
        },
        {
          "output_type": "display_data",
          "data": {
            "text/plain": [
              "<Figure size 432x288 with 1 Axes>"
            ],
            "image/png": "[encoded data removed]"
          },
          "metadata": {
            "needs_background": "light"
          }
        }
      ]
    },
    {
      "cell_type": "markdown",
      "source": [
        "#RFE"
      ],
      "metadata": {
        "id": "XhnvwI9AGKVM"
      }
    },
    {
      "cell_type": "code",
      "source": [
        "input=df.describe().columns.to_list()# saving all the columns\n",
        "var=df[input]\n",
        "var=var.drop(['price'],axis=1)# taking all predictors.\n",
        "x=var.values\n",
        "y=df['price'].values # defining target"
      ],
      "metadata": {
        "id": "_YOKtwxPGMxc"
      },
      "execution_count": 20,
      "outputs": []
    },
    {
      "cell_type": "code",
      "source": [
        "from sklearn.ensemble import RandomForestRegressor\n",
        "from sklearn.tree import DecisionTreeRegressor\n",
        "# Train/test set generation\n",
        "X_train, X_test, y_train, y_test = train_test_split(\n",
        "    x, y, test_size=0.3, random_state=1121218\n",
        ")\n",
        "\n",
        "# Scale train and test sets with StandardScaler\n",
        "X_train_std = pp.StandardScaler().fit_transform(X_train)\n",
        "X_test_std = pp.StandardScaler().fit_transform(X_test)\n",
        "\n",
        "# Fix the dimensions of the target array\n",
        "y_train = y_train.reshape(-1, 1)\n",
        "y_test = y_test.reshape(-1, 1)\n",
        "\n",
        "# Init, fit, test Lasso Regressor\n",
        "#forest = RandomForestRegressor()\n",
        "forest=DecisionTreeRegressor()\n",
        "_ = forest.fit(X_train_std, y_train)\n",
        "forest.score(X_test_std, y_test)"
      ],
      "metadata": {
        "colab": {
          "base_uri": "https://localhost:8080/"
        },
        "id": "gHUbbvyWGxxa",
        "outputId": "781b29b1-6976-4b0a-aa6f-a5c2876e4c69"
      },
      "execution_count": 21,
      "outputs": [
        {
          "output_type": "execute_result",
          "data": {
            "text/plain": [
              "0.7527471054678347"
            ]
          },
          "metadata": {},
          "execution_count": 21
        }
      ]
    },
    {
      "cell_type": "code",
      "source": [
        "#Printing the features and Weight.\n",
        "pd.DataFrame(\n",
        "    zip(var.columns, abs(forest.feature_importances_)),\n",
        "    columns=[\"feature\", \"weight\"],\n",
        ").sort_values(\"weight\").reset_index(drop=True)"
      ],
      "metadata": {
        "colab": {
          "base_uri": "https://localhost:8080/",
          "height": 1000
        },
        "id": "qswiG8e5HGYb",
        "outputId": "f5ffed4f-447d-41fa-fc82-628544713fc5"
      },
      "execution_count": 22,
      "outputs": [
        {
          "output_type": "execute_result",
          "data": {
            "text/plain": [
              "                     feature        weight\n",
              "0            make_volkswagen  0.000000e+00\n",
              "1           engine-type_dohc  0.000000e+00\n",
              "2                make_jaguar  0.000000e+00\n",
              "3         make_mercedes-benz  0.000000e+00\n",
              "4               make_mercury  0.000000e+00\n",
              "5            make_mitsubishi  0.000000e+00\n",
              "6                make_nissan  0.000000e+00\n",
              "7                make_peugot  0.000000e+00\n",
              "8               make_porsche  0.000000e+00\n",
              "9              engine-type_l  0.000000e+00\n",
              "10              make_renault  0.000000e+00\n",
              "11               make_subaru  0.000000e+00\n",
              "12      engine-location_rear  0.000000e+00\n",
              "13     horsepower-binned_Low  0.000000e+00\n",
              "14                make_volvo  0.000000e+00\n",
              "15     engine-location_front  0.000000e+00\n",
              "16          drive-wheels_fwd  0.000000e+00\n",
              "17          drive-wheels_4wd  0.000000e+00\n",
              "18        body-style_hardtop  0.000000e+00\n",
              "19                 make_saab  0.000000e+00\n",
              "20            make_chevrolet  0.000000e+00\n",
              "21          body-style_wagon  0.000000e+00\n",
              "22                 make_audi  0.000000e+00\n",
              "23    horsepower-binned_High  0.000000e+00\n",
              "24          fuel-system_spfi  0.000000e+00\n",
              "25          fuel-system_spdi  0.000000e+00\n",
              "26           fuel-system_mfi  0.000000e+00\n",
              "27           fuel-system_idi  0.000000e+00\n",
              "28          fuel-system_4bbl  0.000000e+00\n",
              "29          fuel-system_1bbl  0.000000e+00\n",
              "30      num-of-cylinders_two  0.000000e+00\n",
              "31   num-of-cylinders_twelve  0.000000e+00\n",
              "32          engine-type_ohcf  0.000000e+00\n",
              "33    num-of-cylinders_three  0.000000e+00\n",
              "34     num-of-cylinders_four  0.000000e+00\n",
              "35     num-of-cylinders_five  0.000000e+00\n",
              "36         engine-type_rotor  0.000000e+00\n",
              "37          engine-type_ohcv  0.000000e+00\n",
              "38                    diesel  0.000000e+00\n",
              "39                       gas  0.000000e+00\n",
              "40          make_alfa-romero  0.000000e+00\n",
              "41      num-of-cylinders_six  0.000000e+00\n",
              "42                make_mazda  5.861040e-10\n",
              "43          drive-wheels_rwd  3.134571e-08\n",
              "44                make_honda  5.015313e-07\n",
              "45             make_plymouth  1.186861e-06\n",
              "46         num-of-doors_four  4.555808e-06\n",
              "47      body-style_hatchback  5.379197e-06\n",
              "48  horsepower-binned_Medium  1.758312e-05\n",
              "49                      bore  2.962440e-05\n",
              "50          fuel-system_mpfi  3.823868e-05\n",
              "51    num-of-cylinders_eight  4.488783e-05\n",
              "52                make_dodge  7.286445e-05\n",
              "53            aspiration_std  8.863918e-05\n",
              "54    body-style_convertible  8.899409e-05\n",
              "55          fuel-system_2bbl  9.787602e-05\n",
              "56                make_isuzu  1.075626e-04\n",
              "57         compression-ratio  1.345644e-04\n",
              "58               make_toyota  2.475351e-04\n",
              "59          num-of-doors_two  3.514849e-04\n",
              "60          aspiration_turbo  5.390048e-04\n",
              "61                    stroke  6.285583e-04\n",
              "62                  peak-rpm  6.482048e-04\n",
              "63                  city-mpg  6.686699e-04\n",
              "64         normalized-losses  6.730905e-04\n",
              "65          body-style_sedan  9.152052e-04\n",
              "66                 symboling  9.174142e-04\n",
              "67              city-L/100km  1.176955e-03\n",
              "68                    length  1.311177e-03\n",
              "69                     width  4.644822e-03\n",
              "70                    height  6.877161e-03\n",
              "71                wheel-base  1.055251e-02\n",
              "72                horsepower  1.144963e-02\n",
              "73               highway-mpg  1.184137e-02\n",
              "74                  make_bmw  1.314140e-02\n",
              "75           engine-type_ohc  1.533039e-02\n",
              "76               curb-weight  2.568400e-01\n",
              "77               engine-size  6.605129e-01"
            ],
            "text/html": [
              "\n",
              "  <div id=\"df-360eaa7c-7efb-4804-9ccc-f7904c83834f\">\n",
              "    <div class=\"colab-df-container\">\n",
              "      <div>\n",
              "<style scoped>\n",
              "    .dataframe tbody tr th:only-of-type {\n",
              "        vertical-align: middle;\n",
              "    }\n",
              "\n",
              "    .dataframe tbody tr th {\n",
              "        vertical-align: top;\n",
              "    }\n",
              "\n",
              "    .dataframe thead th {\n",
              "        text-align: right;\n",
              "    }\n",
              "</style>\n",
              "<table border=\"1\" class=\"dataframe\">\n",
              "  <thead>\n",
              "    <tr style=\"text-align: right;\">\n",
              "      <th></th>\n",
              "      <th>feature</th>\n",
              "      <th>weight</th>\n",
              "    </tr>\n",
              "  </thead>\n",
              "  <tbody>\n",
              "    <tr>\n",
              "      <th>0</th>\n",
              "      <td>make_volkswagen</td>\n",
              "      <td>0.000000e+00</td>\n",
              "    </tr>\n",
              "    <tr>\n",
              "      <th>1</th>\n",
              "      <td>engine-type_dohc</td>\n",
              "      <td>0.000000e+00</td>\n",
              "    </tr>\n",
              "    <tr>\n",
              "      <th>2</th>\n",
              "      <td>make_jaguar</td>\n",
              "      <td>0.000000e+00</td>\n",
              "    </tr>\n",
              "    <tr>\n",
              "      <th>3</th>\n",
              "      <td>make_mercedes-benz</td>\n",
              "      <td>0.000000e+00</td>\n",
              "    </tr>\n",
              "    <tr>\n",
              "      <th>4</th>\n",
              "      <td>make_mercury</td>\n",
              "      <td>0.000000e+00</td>\n",
              "    </tr>\n",
              "    <tr>\n",
              "      <th>5</th>\n",
              "      <td>make_mitsubishi</td>\n",
              "      <td>0.000000e+00</td>\n",
              "    </tr>\n",
              "    <tr>\n",
              "      <th>6</th>\n",
              "      <td>make_nissan</td>\n",
              "      <td>0.000000e+00</td>\n",
              "    </tr>\n",
              "    <tr>\n",
              "      <th>7</th>\n",
              "      <td>make_peugot</td>\n",
              "      <td>0.000000e+00</td>\n",
              "    </tr>\n",
              "    <tr>\n",
              "      <th>8</th>\n",
              "      <td>make_porsche</td>\n",
              "      <td>0.000000e+00</td>\n",
              "    </tr>\n",
              "    <tr>\n",
              "      <th>9</th>\n",
              "      <td>engine-type_l</td>\n",
              "      <td>0.000000e+00</td>\n",
              "    </tr>\n",
              "    <tr>\n",
              "      <th>10</th>\n",
              "      <td>make_renault</td>\n",
              "      <td>0.000000e+00</td>\n",
              "    </tr>\n",
              "    <tr>\n",
              "      <th>11</th>\n",
              "      <td>make_subaru</td>\n",
              "      <td>0.000000e+00</td>\n",
              "    </tr>\n",
              "    <tr>\n",
              "      <th>12</th>\n",
              "      <td>engine-location_rear</td>\n",
              "      <td>0.000000e+00</td>\n",
              "    </tr>\n",
              "    <tr>\n",
              "      <th>13</th>\n",
              "      <td>horsepower-binned_Low</td>\n",
              "      <td>0.000000e+00</td>\n",
              "    </tr>\n",
              "    <tr>\n",
              "      <th>14</th>\n",
              "      <td>make_volvo</td>\n",
              "      <td>0.000000e+00</td>\n",
              "    </tr>\n",
              "    <tr>\n",
              "      <th>15</th>\n",
              "      <td>engine-location_front</td>\n",
              "      <td>0.000000e+00</td>\n",
              "    </tr>\n",
              "    <tr>\n",
              "      <th>16</th>\n",
              "      <td>drive-wheels_fwd</td>\n",
              "      <td>0.000000e+00</td>\n",
              "    </tr>\n",
              "    <tr>\n",
              "      <th>17</th>\n",
              "      <td>drive-wheels_4wd</td>\n",
              "      <td>0.000000e+00</td>\n",
              "    </tr>\n",
              "    <tr>\n",
              "      <th>18</th>\n",
              "      <td>body-style_hardtop</td>\n",
              "      <td>0.000000e+00</td>\n",
              "    </tr>\n",
              "    <tr>\n",
              "      <th>19</th>\n",
              "      <td>make_saab</td>\n",
              "      <td>0.000000e+00</td>\n",
              "    </tr>\n",
              "    <tr>\n",
              "      <th>20</th>\n",
              "      <td>make_chevrolet</td>\n",
              "      <td>0.000000e+00</td>\n",
              "    </tr>\n",
              "    <tr>\n",
              "      <th>21</th>\n",
              "      <td>body-style_wagon</td>\n",
              "      <td>0.000000e+00</td>\n",
              "    </tr>\n",
              "    <tr>\n",
              "      <th>22</th>\n",
              "      <td>make_audi</td>\n",
              "      <td>0.000000e+00</td>\n",
              "    </tr>\n",
              "    <tr>\n",
              "      <th>23</th>\n",
              "      <td>horsepower-binned_High</td>\n",
              "      <td>0.000000e+00</td>\n",
              "    </tr>\n",
              "    <tr>\n",
              "      <th>24</th>\n",
              "      <td>fuel-system_spfi</td>\n",
              "      <td>0.000000e+00</td>\n",
              "    </tr>\n",
              "    <tr>\n",
              "      <th>25</th>\n",
              "      <td>fuel-system_spdi</td>\n",
              "      <td>0.000000e+00</td>\n",
              "    </tr>\n",
              "    <tr>\n",
              "      <th>26</th>\n",
              "      <td>fuel-system_mfi</td>\n",
              "      <td>0.000000e+00</td>\n",
              "    </tr>\n",
              "    <tr>\n",
              "      <th>27</th>\n",
              "      <td>fuel-system_idi</td>\n",
              "      <td>0.000000e+00</td>\n",
              "    </tr>\n",
              "    <tr>\n",
              "      <th>28</th>\n",
              "      <td>fuel-system_4bbl</td>\n",
              "      <td>0.000000e+00</td>\n",
              "    </tr>\n",
              "    <tr>\n",
              "      <th>29</th>\n",
              "      <td>fuel-system_1bbl</td>\n",
              "      <td>0.000000e+00</td>\n",
              "    </tr>\n",
              "    <tr>\n",
              "      <th>30</th>\n",
              "      <td>num-of-cylinders_two</td>\n",
              "      <td>0.000000e+00</td>\n",
              "    </tr>\n",
              "    <tr>\n",
              "      <th>31</th>\n",
              "      <td>num-of-cylinders_twelve</td>\n",
              "      <td>0.000000e+00</td>\n",
              "    </tr>\n",
              "    <tr>\n",
              "      <th>32</th>\n",
              "      <td>engine-type_ohcf</td>\n",
              "      <td>0.000000e+00</td>\n",
              "    </tr>\n",
              "    <tr>\n",
              "      <th>33</th>\n",
              "      <td>num-of-cylinders_three</td>\n",
              "      <td>0.000000e+00</td>\n",
              "    </tr>\n",
              "    <tr>\n",
              "      <th>34</th>\n",
              "      <td>num-of-cylinders_four</td>\n",
              "      <td>0.000000e+00</td>\n",
              "    </tr>\n",
              "    <tr>\n",
              "      <th>35</th>\n",
              "      <td>num-of-cylinders_five</td>\n",
              "      <td>0.000000e+00</td>\n",
              "    </tr>\n",
              "    <tr>\n",
              "      <th>36</th>\n",
              "      <td>engine-type_rotor</td>\n",
              "      <td>0.000000e+00</td>\n",
              "    </tr>\n",
              "    <tr>\n",
              "      <th>37</th>\n",
              "      <td>engine-type_ohcv</td>\n",
              "      <td>0.000000e+00</td>\n",
              "    </tr>\n",
              "    <tr>\n",
              "      <th>38</th>\n",
              "      <td>diesel</td>\n",
              "      <td>0.000000e+00</td>\n",
              "    </tr>\n",
              "    <tr>\n",
              "      <th>39</th>\n",
              "      <td>gas</td>\n",
              "      <td>0.000000e+00</td>\n",
              "    </tr>\n",
              "    <tr>\n",
              "      <th>40</th>\n",
              "      <td>make_alfa-romero</td>\n",
              "      <td>0.000000e+00</td>\n",
              "    </tr>\n",
              "    <tr>\n",
              "      <th>41</th>\n",
              "      <td>num-of-cylinders_six</td>\n",
              "      <td>0.000000e+00</td>\n",
              "    </tr>\n",
              "    <tr>\n",
              "      <th>42</th>\n",
              "      <td>make_mazda</td>\n",
              "      <td>5.861040e-10</td>\n",
              "    </tr>\n",
              "    <tr>\n",
              "      <th>43</th>\n",
              "      <td>drive-wheels_rwd</td>\n",
              "      <td>3.134571e-08</td>\n",
              "    </tr>\n",
              "    <tr>\n",
              "      <th>44</th>\n",
              "      <td>make_honda</td>\n",
              "      <td>5.015313e-07</td>\n",
              "    </tr>\n",
              "    <tr>\n",
              "      <th>45</th>\n",
              "      <td>make_plymouth</td>\n",
              "      <td>1.186861e-06</td>\n",
              "    </tr>\n",
              "    <tr>\n",
              "      <th>46</th>\n",
              "      <td>num-of-doors_four</td>\n",
              "      <td>4.555808e-06</td>\n",
              "    </tr>\n",
              "    <tr>\n",
              "      <th>47</th>\n",
              "      <td>body-style_hatchback</td>\n",
              "      <td>5.379197e-06</td>\n",
              "    </tr>\n",
              "    <tr>\n",
              "      <th>48</th>\n",
              "      <td>horsepower-binned_Medium</td>\n",
              "      <td>1.758312e-05</td>\n",
              "    </tr>\n",
              "    <tr>\n",
              "      <th>49</th>\n",
              "      <td>bore</td>\n",
              "      <td>2.962440e-05</td>\n",
              "    </tr>\n",
              "    <tr>\n",
              "      <th>50</th>\n",
              "      <td>fuel-system_mpfi</td>\n",
              "      <td>3.823868e-05</td>\n",
              "    </tr>\n",
              "    <tr>\n",
              "      <th>51</th>\n",
              "      <td>num-of-cylinders_eight</td>\n",
              "      <td>4.488783e-05</td>\n",
              "    </tr>\n",
              "    <tr>\n",
              "      <th>52</th>\n",
              "      <td>make_dodge</td>\n",
              "      <td>7.286445e-05</td>\n",
              "    </tr>\n",
              "    <tr>\n",
              "      <th>53</th>\n",
              "      <td>aspiration_std</td>\n",
              "      <td>8.863918e-05</td>\n",
              "    </tr>\n",
              "    <tr>\n",
              "      <th>54</th>\n",
              "      <td>body-style_convertible</td>\n",
              "      <td>8.899409e-05</td>\n",
              "    </tr>\n",
              "    <tr>\n",
              "      <th>55</th>\n",
              "      <td>fuel-system_2bbl</td>\n",
              "      <td>9.787602e-05</td>\n",
              "    </tr>\n",
              "    <tr>\n",
              "      <th>56</th>\n",
              "      <td>make_isuzu</td>\n",
              "      <td>1.075626e-04</td>\n",
              "    </tr>\n",
              "    <tr>\n",
              "      <th>57</th>\n",
              "      <td>compression-ratio</td>\n",
              "      <td>1.345644e-04</td>\n",
              "    </tr>\n",
              "    <tr>\n",
              "      <th>58</th>\n",
              "      <td>make_toyota</td>\n",
              "      <td>2.475351e-04</td>\n",
              "    </tr>\n",
              "    <tr>\n",
              "      <th>59</th>\n",
              "      <td>num-of-doors_two</td>\n",
              "      <td>3.514849e-04</td>\n",
              "    </tr>\n",
              "    <tr>\n",
              "      <th>60</th>\n",
              "      <td>aspiration_turbo</td>\n",
              "      <td>5.390048e-04</td>\n",
              "    </tr>\n",
              "    <tr>\n",
              "      <th>61</th>\n",
              "      <td>stroke</td>\n",
              "      <td>6.285583e-04</td>\n",
              "    </tr>\n",
              "    <tr>\n",
              "      <th>62</th>\n",
              "      <td>peak-rpm</td>\n",
              "      <td>6.482048e-04</td>\n",
              "    </tr>\n",
              "    <tr>\n",
              "      <th>63</th>\n",
              "      <td>city-mpg</td>\n",
              "      <td>6.686699e-04</td>\n",
              "    </tr>\n",
              "    <tr>\n",
              "      <th>64</th>\n",
              "      <td>normalized-losses</td>\n",
              "      <td>6.730905e-04</td>\n",
              "    </tr>\n",
              "    <tr>\n",
              "      <th>65</th>\n",
              "      <td>body-style_sedan</td>\n",
              "      <td>9.152052e-04</td>\n",
              "    </tr>\n",
              "    <tr>\n",
              "      <th>66</th>\n",
              "      <td>symboling</td>\n",
              "      <td>9.174142e-04</td>\n",
              "    </tr>\n",
              "    <tr>\n",
              "      <th>67</th>\n",
              "      <td>city-L/100km</td>\n",
              "      <td>1.176955e-03</td>\n",
              "    </tr>\n",
              "    <tr>\n",
              "      <th>68</th>\n",
              "      <td>length</td>\n",
              "      <td>1.311177e-03</td>\n",
              "    </tr>\n",
              "    <tr>\n",
              "      <th>69</th>\n",
              "      <td>width</td>\n",
              "      <td>4.644822e-03</td>\n",
              "    </tr>\n",
              "    <tr>\n",
              "      <th>70</th>\n",
              "      <td>height</td>\n",
              "      <td>6.877161e-03</td>\n",
              "    </tr>\n",
              "    <tr>\n",
              "      <th>71</th>\n",
              "      <td>wheel-base</td>\n",
              "      <td>1.055251e-02</td>\n",
              "    </tr>\n",
              "    <tr>\n",
              "      <th>72</th>\n",
              "      <td>horsepower</td>\n",
              "      <td>1.144963e-02</td>\n",
              "    </tr>\n",
              "    <tr>\n",
              "      <th>73</th>\n",
              "      <td>highway-mpg</td>\n",
              "      <td>1.184137e-02</td>\n",
              "    </tr>\n",
              "    <tr>\n",
              "      <th>74</th>\n",
              "      <td>make_bmw</td>\n",
              "      <td>1.314140e-02</td>\n",
              "    </tr>\n",
              "    <tr>\n",
              "      <th>75</th>\n",
              "      <td>engine-type_ohc</td>\n",
              "      <td>1.533039e-02</td>\n",
              "    </tr>\n",
              "    <tr>\n",
              "      <th>76</th>\n",
              "      <td>curb-weight</td>\n",
              "      <td>2.568400e-01</td>\n",
              "    </tr>\n",
              "    <tr>\n",
              "      <th>77</th>\n",
              "      <td>engine-size</td>\n",
              "      <td>6.605129e-01</td>\n",
              "    </tr>\n",
              "  </tbody>\n",
              "</table>\n",
              "</div>\n",
              "      <button class=\"colab-df-convert\" onclick=\"convertToInteractive('df-360eaa7c-7efb-4804-9ccc-f7904c83834f')\"\n",
              "              title=\"Convert this dataframe to an interactive table.\"\n",
              "              style=\"display:none;\">\n",
              "        \n",
              "  <svg xmlns=\"http://www.w3.org/2000/svg\" height=\"24px\"viewBox=\"0 0 24 24\"\n",
              "       width=\"24px\">\n",
              "    <path d=\"M0 0h24v24H0V0z\" fill=\"none\"/>\n",
              "    <path d=\"M18.56 5.44l.94 2.06.94-2.06 2.06-.94-2.06-.94-.94-2.06-.94 2.06-2.06.94zm-11 1L8.5 8.5l.94-2.06 2.06-.94-2.06-.94L8.5 2.5l-.94 2.06-2.06.94zm10 10l.94 2.06.94-2.06 2.06-.94-2.06-.94-.94-2.06-.94 2.06-2.06.94z\"/><path d=\"M17.41 7.96l-1.37-1.37c-.4-.4-.92-.59-1.43-.59-.52 0-1.04.2-1.43.59L10.3 9.45l-7.72 7.72c-.78.78-.78 2.05 0 2.83L4 21.41c.39.39.9.59 1.41.59.51 0 1.02-.2 1.41-.59l7.78-7.78 2.81-2.81c.8-.78.8-2.07 0-2.86zM5.41 20L4 18.59l7.72-7.72 1.47 1.35L5.41 20z\"/>\n",
              "  </svg>\n",
              "      </button>\n",
              "      \n",
              "  <style>\n",
              "    .colab-df-container {\n",
              "      display:flex;\n",
              "      flex-wrap:wrap;\n",
              "      gap: 12px;\n",
              "    }\n",
              "\n",
              "    .colab-df-convert {\n",
              "      background-color: #E8F0FE;\n",
              "      border: none;\n",
              "      border-radius: 50%;\n",
              "      cursor: pointer;\n",
              "      display: none;\n",
              "      fill: #1967D2;\n",
              "      height: 32px;\n",
              "      padding: 0 0 0 0;\n",
              "      width: 32px;\n",
              "    }\n",
              "\n",
              "    .colab-df-convert:hover {\n",
              "      background-color: #E2EBFA;\n",
              "      box-shadow: 0px 1px 2px rgba(60, 64, 67, 0.3), 0px 1px 3px 1px rgba(60, 64, 67, 0.15);\n",
              "      fill: #174EA6;\n",
              "    }\n",
              "\n",
              "    [theme=dark] .colab-df-convert {\n",
              "      background-color: #3B4455;\n",
              "      fill: #D2E3FC;\n",
              "    }\n",
              "\n",
              "    [theme=dark] .colab-df-convert:hover {\n",
              "      background-color: #434B5C;\n",
              "      box-shadow: 0px 1px 3px 1px rgba(0, 0, 0, 0.15);\n",
              "      filter: drop-shadow(0px 1px 2px rgba(0, 0, 0, 0.3));\n",
              "      fill: #FFFFFF;\n",
              "    }\n",
              "  </style>\n",
              "\n",
              "      <script>\n",
              "        const buttonEl =\n",
              "          document.querySelector('#df-360eaa7c-7efb-4804-9ccc-f7904c83834f button.colab-df-convert');\n",
              "        buttonEl.style.display =\n",
              "          google.colab.kernel.accessAllowed ? 'block' : 'none';\n",
              "\n",
              "        async function convertToInteractive(key) {\n",
              "          const element = document.querySelector('#df-360eaa7c-7efb-4804-9ccc-f7904c83834f');\n",
              "          const dataTable =\n",
              "            await google.colab.kernel.invokeFunction('convertToInteractive',\n",
              "                                                     [key], {});\n",
              "          if (!dataTable) return;\n",
              "\n",
              "          const docLinkHtml = 'Like what you see? Visit the ' +\n",
              "            '<a target=\"_blank\" href=https://colab.research.google.com/notebooks/data_table.ipynb>data table notebook</a>'\n",
              "            + ' to learn more about interactive tables.';\n",
              "          element.innerHTML = '';\n",
              "          dataTable['output_type'] = 'display_data';\n",
              "          await google.colab.output.renderOutput(dataTable, element);\n",
              "          const docLink = document.createElement('div');\n",
              "          docLink.innerHTML = docLinkHtml;\n",
              "          element.appendChild(docLink);\n",
              "        }\n",
              "      </script>\n",
              "    </div>\n",
              "  </div>\n",
              "  "
            ]
          },
          "metadata": {},
          "execution_count": 22
        }
      ]
    },
    {
      "cell_type": "code",
      "source": [
        "#Listing the best features.\n",
        "from sklearn.feature_selection import RFE\n",
        "rfe = RFE(estimator=DecisionTreeRegressor(),#RandomForestRegressor(), \n",
        "          n_features_to_select=5, step=1)\n",
        "_ = rfe.fit(X_train_std, y_train)\n",
        "\n",
        "print(var.columns[rfe.support_])\n",
        "slctd_features=var.columns[rfe.support_].to_list()# BMW is an otlier"
      ],
      "metadata": {
        "colab": {
          "base_uri": "https://localhost:8080/"
        },
        "id": "EaYHnGxPHWZL",
        "outputId": "c8b88768-d8fe-4456-a7df-71a6c4614017"
      },
      "execution_count": 23,
      "outputs": [
        {
          "output_type": "stream",
          "name": "stdout",
          "text": [
            "Index(['wheel-base', 'curb-weight', 'engine-size', 'make_bmw',\n",
            "       'engine-type_ohc'],\n",
            "      dtype='object')\n"
          ]
        }
      ]
    },
    {
      "cell_type": "code",
      "source": [
        "slctd_features"
      ],
      "metadata": {
        "colab": {
          "base_uri": "https://localhost:8080/"
        },
        "id": "DI4K4fPzHc6E",
        "outputId": "8f7e8d13-19e7-4a68-886d-7d7d10261dd3"
      },
      "execution_count": 24,
      "outputs": [
        {
          "output_type": "execute_result",
          "data": {
            "text/plain": [
              "['wheel-base', 'curb-weight', 'engine-size', 'make_bmw', 'engine-type_ohc']"
            ]
          },
          "metadata": {},
          "execution_count": 24
        }
      ]
    },
    {
      "cell_type": "code",
      "source": [
        "x = df[slctd_features]\n"
      ],
      "metadata": {
        "id": "5J2BkjyUH94D"
      },
      "execution_count": 25,
      "outputs": []
    },
    {
      "cell_type": "code",
      "source": [
        "from sklearn.model_selection import train_test_split\n",
        "x_train, x_test, y_train, y_test = train_test_split(x, y, test_size=0.2, random_state=1)"
      ],
      "metadata": {
        "id": "fclS2GufIad1"
      },
      "execution_count": 26,
      "outputs": []
    },
    {
      "cell_type": "code",
      "source": [
        "reg.fit(x_train, y_train)\n",
        "\n",
        "print(\"slope:\", reg.coef_[0])\n",
        "print(\"intercept\", reg.intercept_)\n",
        "\n",
        "# Algorith Performance\n",
        "y_pred = reg.predict(x_test)\n",
        "print(\"r2: \", metrics.r2_score(y_test,y_pred))\n",
        "print(\"mean square error: \", metrics.mean_squared_error(y_test,y_pred))"
      ],
      "metadata": {
        "colab": {
          "base_uri": "https://localhost:8080/"
        },
        "id": "FMM427lsIqXl",
        "outputId": "9e39fc08-a6ab-46cb-ce7d-7c726c181a39"
      },
      "execution_count": 27,
      "outputs": [
        {
          "output_type": "stream",
          "name": "stdout",
          "text": [
            "slope: 39.60594557778924\n",
            "intercept -18552.612300848086\n",
            "r2:  0.7406843903888931\n",
            "mean square error:  16180267.01361624\n"
          ]
        }
      ]
    },
    {
      "cell_type": "markdown",
      "source": [
        "#PCA"
      ],
      "metadata": {
        "id": "KY12cqnEGfRc"
      }
    },
    {
      "cell_type": "code",
      "source": [
        "x = df.drop(['price'],axis=1)\n",
        "y = df['price']\n",
        "from sklearn.preprocessing import StandardScaler\n",
        "std = StandardScaler()\n",
        "from sklearn.model_selection import train_test_split\n",
        "x_train, x_test, y_train, y_test = train_test_split(x, y, test_size=0.2, random_state=1)\n",
        "# Scale train and test sets with StandardScaler\n",
        "X_train_std = std.fit_transform(X_train)\n",
        "X_test_std = std.fit_transform(X_test)"
      ],
      "metadata": {
        "id": "LvenBuQPCUvJ"
      },
      "execution_count": 28,
      "outputs": []
    },
    {
      "cell_type": "code",
      "source": [
        "from sklearn.decomposition import PCA\n",
        "pca = PCA(3)\n",
        "pca.fit(x_train)\n",
        "x_train = pca.transform(x_train)\n",
        "x_test = pca.transform(x_test)"
      ],
      "metadata": {
        "id": "jboeRNH4xEIc"
      },
      "execution_count": 29,
      "outputs": []
    },
    {
      "cell_type": "code",
      "source": [
        "pca.components_"
      ],
      "metadata": {
        "colab": {
          "base_uri": "https://localhost:8080/"
        },
        "id": "JkZbFMw9eBuz",
        "outputId": "7586e26c-b859-4387-ae1d-5132571f8d2e"
      },
      "execution_count": 30,
      "outputs": [
        {
          "output_type": "execute_result",
          "data": {
            "text/plain": [
              "array([[-5.65361099e-04, -5.33983793e-03,  8.00026707e-03,  8.31112638e-05,  4.26253736e-05,  1.49982875e-03,  8.20045987e-01,  5.84565769e-02,  3.01002516e-04,  7.16711857e-05,  2.48140417e-03,  3.67062748e-02, -5.67942552e-01, -6.13687275e-03, -7.32107016e-03,  2.64028746e-03,  2.15890080e-04, -2.15890080e-04,  8.76758462e-06, -5.43296962e-06,  3.03322567e-05, -3.14219271e-05, -9.45513826e-05, -1.26380150e-04,  4.57092604e-06,  5.46890439e-05, -1.48152444e-05,  2.11948223e-04,  7.45516610e-06, -5.84493352e-05, -5.48343544e-05,  1.07717256e-04, -4.45020719e-05, -5.14663208e-06, -1.07489144e-06,  2.98692885e-06,  1.57242329e-06, -1.12539677e-05, -3.15068194e-05,  4.93299386e-05, -2.18980991e-04,  2.18980991e-04,  1.98886499e-04, -1.98886499e-04,  3.22138925e-05,  5.44314723e-05, -2.56194392e-04,  9.56733888e-05,  7.38756381e-05,  1.32572572e-05, -5.18081490e-04,  5.04824233e-04,  4.63852657e-06, -4.63852657e-06,  6.18166787e-06,  9.02062449e-05, -2.64717527e-04, -3.06610328e-06,  1.71395718e-04,  0.00000000e+00,  1.04153983e-04,  1.07786665e-04, -3.68758428e-04,  1.49313744e-04, -1.75110107e-05,  2.50150461e-05,  0.00000000e+00, -1.17743679e-04, -3.53861374e-04,  0.00000000e+00,  2.15890080e-04,  0.00000000e+00,  2.67284862e-04, -1.60112058e-05,  4.44131671e-06,  1.48013780e-04, -3.83865480e-04,  2.10836654e-04],\n",
              "       [ 7.65217391e-05,  2.54341603e-02,  3.81524487e-03,  5.40565304e-05,  3.01666676e-05, -2.29183302e-04,  5.64206346e-01,  3.94092642e-02,  1.24820732e-04,  5.33797474e-05, -2.55731355e-03,  5.53045217e-02,  8.22320046e-01, -8.85357214e-03, -9.35065583e-03,  3.60013506e-03, -1.85085115e-04,  1.85085115e-04, -2.54749973e-06,  8.48569616e-05,  5.29834046e-05, -2.68759531e-05,  6.59046722e-06,  1.16958802e-04, -1.26189492e-05,  4.98491017e-05, -1.39233277e-04,  4.74837793e-05,  5.03696276e-06,  2.56057489e-05, -2.51097352e-05,  1.67359122e-05,  1.14334060e-05,  4.86477555e-05,  8.66438445e-07,  6.12551791e-05, -1.64348800e-04, -2.82717805e-04, -3.42480052e-05,  1.59396105e-04, -1.08895653e-04,  1.08895653e-04, -1.04167684e-04,  1.04167684e-04,  3.91762738e-05, -2.88215354e-05, -1.05613413e-04,  7.36921106e-05,  2.15665642e-05, -8.45658210e-05, -3.34990755e-04,  4.19556576e-04, -3.08545127e-05,  3.08545127e-05,  1.66609142e-04, -5.89818043e-06, -1.88496750e-04, -1.33494288e-04,  1.61280076e-04, -0.00000000e+00,  4.68478204e-05,  9.24351926e-05, -3.34663507e-04,  1.90296508e-04, -2.26340927e-05,  2.77180790e-05, -0.00000000e+00,  1.09757063e-04, -5.97466377e-04, -0.00000000e+00, -1.85085115e-04, -0.00000000e+00,  6.18877227e-04,  5.28541956e-05,  1.06300775e-06,  2.43973608e-04, -6.98052827e-04,  4.26361140e-04],\n",
              "       [ 2.04164460e-02,  9.72012815e-01, -3.25102980e-02, -1.64599735e-04, -3.30097174e-05, -3.05930529e-02, -3.06461332e-02,  1.40645072e-01, -5.89238477e-04,  5.66119178e-04, -1.21478303e-02,  1.73568485e-01, -2.78172693e-02, -2.26254202e-02, -1.50502827e-02,  1.07884462e-02, -7.11481767e-04,  7.11481767e-04,  1.31693345e-04,  2.73647711e-04,  1.43752423e-03, -2.04773990e-04,  4.74928968e-04, -1.77492234e-03,  1.76836162e-05,  7.68665420e-05,  2.99957617e-04, -5.03297400e-04,  4.56255040e-05,  1.70161009e-03,  1.31371792e-03,  9.50270453e-04,  3.08761155e-04,  3.93044981e-04,  1.88690934e-05,  1.47769022e-05, -1.47179233e-03, -4.48956210e-04, -7.16417190e-05, -2.98359415e-03,  1.14590243e-04, -1.14590243e-04, -6.18754212e-03,  6.18754212e-03,  2.95464670e-04,  8.49647578e-04,  3.22994410e-03, -1.25891373e-03, -3.11614262e-03, -1.01830223e-03, -1.99186479e-03,  3.01016701e-03,  1.29530545e-05, -1.29530545e-05,  5.65968714e-04,  1.04051850e-03, -1.33928735e-03, -1.48474538e-03,  1.21754552e-03,  0.00000000e+00,  3.75101352e-04, -9.40578998e-04, -1.22241784e-03,  1.57906709e-03,  9.02480496e-05,  1.18580353e-04,  0.00000000e+00, -1.62232025e-03,  1.65860949e-04,  0.00000000e+00, -7.11481767e-04,  0.00000000e+00,  1.63576903e-03,  5.76822422e-04, -4.46503774e-05,  1.35591457e-03, -9.28549990e-04, -5.45944936e-04]])"
            ]
          },
          "metadata": {},
          "execution_count": 30
        }
      ]
    },
    {
      "cell_type": "code",
      "source": [
        "len(pca.components_)"
      ],
      "metadata": {
        "colab": {
          "base_uri": "https://localhost:8080/"
        },
        "id": "ur1vG0-4DAxU",
        "outputId": "2d37d888-190e-4ecf-8bb1-00f996f35b76"
      },
      "execution_count": 31,
      "outputs": [
        {
          "output_type": "execute_result",
          "data": {
            "text/plain": [
              "3"
            ]
          },
          "metadata": {},
          "execution_count": 31
        }
      ]
    },
    {
      "cell_type": "code",
      "source": [
        "pca.explained_variance_ratio_"
      ],
      "metadata": {
        "colab": {
          "base_uri": "https://localhost:8080/"
        },
        "id": "OQOGGAWPDHWV",
        "outputId": "a7b1f0ed-7e99-458e-aa29-73db9e73bf5c"
      },
      "execution_count": 32,
      "outputs": [
        {
          "output_type": "execute_result",
          "data": {
            "text/plain": [
              "array([0.64925063, 0.34730002, 0.00177779])"
            ]
          },
          "metadata": {},
          "execution_count": 32
        }
      ]
    },
    {
      "cell_type": "code",
      "source": [
        "reg.fit(x_train, y_train)\n",
        "\n",
        "print(\"slope:\", reg.coef_[0])\n",
        "print(\"intercept\", reg.intercept_)\n",
        "\n",
        "# Algorith Performance\n",
        "y_pred = reg.predict(x_test)\n",
        "print(\"r2: \", metrics.r2_score(y_test,y_pred))\n",
        "print(\"mean square error: \", metrics.mean_squared_error(y_test,y_pred))"
      ],
      "metadata": {
        "colab": {
          "base_uri": "https://localhost:8080/"
        },
        "id": "cOSzR9vPEU8U",
        "outputId": "1418cf88-4d92-4334-ab4a-357330269b57"
      },
      "execution_count": 33,
      "outputs": [
        {
          "output_type": "stream",
          "name": "stdout",
          "text": [
            "slope: 10.521087650315689\n",
            "intercept 13013.71974522293\n",
            "r2:  0.5127476022698225\n",
            "mean square error:  30402619.84275602\n"
          ]
        }
      ]
    },
    {
      "cell_type": "code",
      "source": [
        "cdf=pd.DataFrame({'Actual':y_test,'Predicted':y_pred})\n",
        "cdf.plot()"
      ],
      "metadata": {
        "colab": {
          "base_uri": "https://localhost:8080/",
          "height": 282
        },
        "id": "4lI9d65NS0Kr",
        "outputId": "27436ff3-4fd5-4dd1-cf89-2ca646c5bd4c"
      },
      "execution_count": 34,
      "outputs": [
        {
          "output_type": "execute_result",
          "data": {
            "text/plain": [
              "<matplotlib.axes._subplots.AxesSubplot at 0x7f4a10dd27d0>"
            ]
          },
          "metadata": {},
          "execution_count": 34
        },
        {
          "output_type": "display_data",
          "data": {
            "text/plain": [
              "<Figure size 432x288 with 1 Axes>"
            ],
            "image/png": "[encoded data removed]"
          },
          "metadata": {
            "needs_background": "light"
          }
        }
      ]
    },
    {
      "cell_type": "markdown",
      "source": [
        "#PLS"
      ],
      "metadata": {
        "id": "AlxIXnXUJmkx"
      }
    },
    {
      "cell_type": "code",
      "source": [
        "from sklearn.cross_decomposition import PLSRegression\n",
        "pls = PLSRegression(n_components=4)"
      ],
      "metadata": {
        "id": "THWeAXaOJh4y"
      },
      "execution_count": 35,
      "outputs": []
    },
    {
      "cell_type": "code",
      "source": [
        "from sklearn.model_selection import train_test_split\n",
        "x_train, x_test, y_train, y_test = train_test_split(x, y, test_size=0.2, random_state=1)\n",
        "pls.fit(x_train, y_train)\n",
        "y_pred = pls.predict(x_test)\n",
        "print(\"r2: \", metrics.r2_score(y_test,y_pred))\n",
        "print(\"mean square error: \", metrics.mean_squared_error(y_test,y_pred))"
      ],
      "metadata": {
        "colab": {
          "base_uri": "https://localhost:8080/"
        },
        "id": "GRYIqH8nNS8r",
        "outputId": "57a38dcd-c6ee-4d1a-fa13-dd58b0810120"
      },
      "execution_count": 36,
      "outputs": [
        {
          "output_type": "stream",
          "name": "stdout",
          "text": [
            "r2:  0.9411228314777136\n",
            "mean square error:  3673702.1312560095\n"
          ]
        }
      ]
    },
    {
      "cell_type": "code",
      "source": [
        "import matplotlib.pyplot as plt\n",
        "import numpy as np"
      ],
      "metadata": {
        "id": "U0G_F6z_i8Fp"
      },
      "execution_count": 37,
      "outputs": []
    },
    {
      "cell_type": "markdown",
      "source": [
        "PCR and PLS Comparison"
      ],
      "metadata": {
        "id": "6uA0qyhhWsqi"
      }
    },
    {
      "cell_type": "code",
      "source": [
        "from sklearn.pipeline import make_pipeline\n",
        "pcr = make_pipeline(StandardScaler(), PCA(n_components=1), LinearRegression())\n",
        "pcr.fit(x_train, y_train)\n",
        "pca = pcr.named_steps[\"pca\"]  # retrieve the PCA step of the pipeline\n",
        "\n",
        "pls = PLSRegression(n_components=1)\n",
        "pls.fit(x_train, y_train)\n",
        "\n",
        "fig, axes = plt.subplots(2, 1, figsize=(10, 10))\n",
        "axes[0].scatter(pca.transform(x_test), y_test, alpha=0.3, label=\"ground truth\")\n",
        "axes[0].scatter(\n",
        "    pca.transform(x_test), pcr.predict(x_test), alpha=0.3, label=\"predictions\"\n",
        ")\n",
        "axes[0].set(\n",
        "    xlabel=\"Projected data onto first PCA component\", ylabel=\"y\", title=\"PCR / PCA\"\n",
        ")\n",
        "axes[0].legend()\n",
        "axes[1].scatter(pls.transform(x_test), y_test, alpha=0.3, label=\"ground truth\")\n",
        "axes[1].scatter(\n",
        "    pls.transform(x_test), pls.predict(x_test), alpha=0.3, label=\"predictions\"\n",
        ")\n",
        "axes[1].set(xlabel=\"Projected data onto first PLS component\", ylabel=\"y\", title=\"PLS\")\n",
        "axes[1].legend()\n",
        "plt.tight_layout()\n",
        "plt.show()"
      ],
      "metadata": {
        "colab": {
          "base_uri": "https://localhost:8080/",
          "height": 818
        },
        "id": "oheJ4g16VQ4T",
        "outputId": "c3b335e3-129e-4c5c-8511-041214f47406"
      },
      "execution_count": 38,
      "outputs": [
        {
          "output_type": "stream",
          "name": "stderr",
          "text": [
            "/usr/local/lib/python3.7/dist-packages/sklearn/base.py:444: UserWarning: X has feature names, but PCA was fitted without feature names\n",
            "  f\"X has feature names, but {self.__class__.__name__} was fitted without\"\n",
            "/usr/local/lib/python3.7/dist-packages/sklearn/base.py:444: UserWarning: X has feature names, but PCA was fitted without feature names\n",
            "  f\"X has feature names, but {self.__class__.__name__} was fitted without\"\n"
          ]
        },
        {
          "output_type": "display_data",
          "data": {
            "text/plain": [
              "<Figure size 720x720 with 2 Axes>"
            ],
            "image/png": "[encoded data removed]"
          },
          "metadata": {
            "needs_background": "light"
          }
        }
      ]
    },
    {
      "cell_type": "code",
      "source": [
        "x = np.linspace(0,5,5)"
      ],
      "metadata": {
        "id": "g3ZsTl1gWKOC"
      },
      "execution_count": 39,
      "outputs": []
    },
    {
      "cell_type": "code",
      "source": [
        "x"
      ],
      "metadata": {
        "colab": {
          "base_uri": "https://localhost:8080/"
        },
        "id": "U0ken0FCkKW3",
        "outputId": "e2656ada-cd61-46bc-fdee-3c4125dd8cc1"
      },
      "execution_count": 40,
      "outputs": [
        {
          "output_type": "execute_result",
          "data": {
            "text/plain": [
              "array([0.  , 1.25, 2.5 , 3.75, 5.  ])"
            ]
          },
          "metadata": {},
          "execution_count": 40
        }
      ]
    },
    {
      "cell_type": "code",
      "source": [
        "n=list(range(1,15))\n",
        "r=[]\n",
        "mse=[]\n",
        "for i in n:\n",
        "  from sklearn.cross_decomposition import PLSRegression\n",
        "  pls = PLSRegression(n_components=i)\n",
        "  x = df.drop(['price'],axis=1)\n",
        "  y = df['price']\n",
        "  from sklearn.model_selection import train_test_split\n",
        "  x_train, x_test, y_train, y_test = train_test_split(x, y, test_size=0.2, random_state=1)\n",
        "  pls.fit(x_train, y_train)\n",
        "  y_pred = pls.predict(x_test)\n",
        "  r.append(metrics.r2_score(y_test,y_pred))\n",
        "  mse.append(metrics.mean_squared_error(y_test,y_pred))\n",
        "  print(\"r2: \", metrics.r2_score(y_test,y_pred))\n",
        "  print(\"mean square error: \", metrics.mean_squared_error(y_test,y_pred))\n",
        "  \n"
      ],
      "metadata": {
        "colab": {
          "base_uri": "https://localhost:8080/"
        },
        "id": "RQEl49aCkLCj",
        "outputId": "a27a1435-3fa2-4d4b-f821-b355782f4174"
      },
      "execution_count": 41,
      "outputs": [
        {
          "output_type": "stream",
          "name": "stdout",
          "text": [
            "r2:  0.8043726820642546\n",
            "mean square error:  12206369.852184879\n",
            "r2:  0.8905862948657406\n",
            "mean square error:  6826981.86459488\n",
            "r2:  0.9311003584856059\n",
            "mean square error:  4299064.751702418\n",
            "r2:  0.9411228314777136\n",
            "mean square error:  3673702.1312560095\n",
            "r2:  0.9427076619269037\n",
            "mean square error:  3574814.9879881563\n",
            "r2:  0.9398945470945923\n",
            "mean square error:  3750342.212111009\n",
            "r2:  0.9407690266726074\n",
            "mean square error:  3695778.149841638\n",
            "r2:  0.9402860804159778\n",
            "mean square error:  3725912.083534303\n",
            "r2:  0.9387316063207386\n",
            "mean square error:  3822905.1105427444\n",
            "r2:  0.9353991939774472\n",
            "mean square error:  4030834.442659647\n",
            "r2:  0.937733179859329\n",
            "mean square error:  3885202.9674411165\n",
            "r2:  0.9364101631284764\n",
            "mean square error:  3967753.971604655\n",
            "r2:  0.9332930091081634\n",
            "mean square error:  4162252.0369038135\n",
            "r2:  0.9357196155940644\n",
            "mean square error:  4010841.4028207636\n"
          ]
        }
      ]
    },
    {
      "cell_type": "code",
      "source": [
        "fig = plt.figure()\n",
        "plt.plot(n, r, '-')\n",
        "plt.scatter(n,r)\n",
        "#plt.plot(n, mse, '--')"
      ],
      "metadata": {
        "colab": {
          "base_uri": "https://localhost:8080/",
          "height": 282
        },
        "id": "Ppui-Qtrqgqk",
        "outputId": "f30e7272-b920-47d2-aaf8-3c148c5073d4"
      },
      "execution_count": 42,
      "outputs": [
        {
          "output_type": "execute_result",
          "data": {
            "text/plain": [
              "<matplotlib.collections.PathCollection at 0x7f4a0f425a90>"
            ]
          },
          "metadata": {},
          "execution_count": 42
        },
        {
          "output_type": "display_data",
          "data": {
            "text/plain": [
              "<Figure size 432x288 with 1 Axes>"
            ],
            "image/png": "[encoded data removed]"
          },
          "metadata": {
            "needs_background": "light"
          }
        }
      ]
    },
    {
      "cell_type": "code",
      "source": [
        "n=list(range(1,15))\n",
        "rsquare=[]\n",
        "for i in n:\n",
        "  from sklearn.pipeline import make_pipeline\n",
        "  x_train, x_test, y_train, y_test = train_test_split(x, y, random_state=1)\n",
        "  pcr = make_pipeline(StandardScaler(), PCA(n_components=i), LinearRegression())\n",
        "  pcr.fit(x_train, y_train)\n",
        "  rsquare.append(pcr.score(x_test, y_test))"
      ],
      "metadata": {
        "id": "4rOAn6aqsSE5"
      },
      "execution_count": 43,
      "outputs": []
    },
    {
      "cell_type": "code",
      "source": [
        "rsquare"
      ],
      "metadata": {
        "colab": {
          "base_uri": "https://localhost:8080/"
        },
        "id": "bY8FACItvY7C",
        "outputId": "325ae8df-9c59-4aa3-bb3c-18ff900cb592"
      },
      "execution_count": 44,
      "outputs": [
        {
          "output_type": "execute_result",
          "data": {
            "text/plain": [
              "[0.7163681386366901,\n",
              " 0.7400507914271465,\n",
              " 0.7391099054388921,\n",
              " 0.7720895594130763,\n",
              " 0.798720405558577,\n",
              " 0.8053549636128303,\n",
              " 0.8182438099203516,\n",
              " 0.8180556857824621,\n",
              " 0.8264946683496812,\n",
              " 0.8287319600826553,\n",
              " 0.8247071058827344,\n",
              " 0.8229033788853533,\n",
              " 0.822236753175023,\n",
              " 0.8238357066673248]"
            ]
          },
          "metadata": {},
          "execution_count": 44
        }
      ]
    },
    {
      "cell_type": "code",
      "source": [
        "fig = plt.figure()\n",
        "plt.plot(n, rsquare, '-')\n",
        "plt.scatter(n,rsquare)"
      ],
      "metadata": {
        "colab": {
          "base_uri": "https://localhost:8080/",
          "height": 282
        },
        "id": "SAuSPsxyu-FO",
        "outputId": "3c727151-22a1-40c3-c840-deef510bd004"
      },
      "execution_count": 45,
      "outputs": [
        {
          "output_type": "execute_result",
          "data": {
            "text/plain": [
              "<matplotlib.collections.PathCollection at 0x7f4a0f31cf50>"
            ]
          },
          "metadata": {},
          "execution_count": 45
        },
        {
          "output_type": "display_data",
          "data": {
            "text/plain": [
              "<Figure size 432x288 with 1 Axes>"
            ],
            "image/png": "[encoded data removed]"
          },
          "metadata": {
            "needs_background": "light"
          }
        }
      ]
    },
    {
      "cell_type": "code",
      "source": [
        ""
      ],
      "metadata": {
        "id": "75aNctjQvSpa"
      },
      "execution_count": 45,
      "outputs": []
    }
  ]
}